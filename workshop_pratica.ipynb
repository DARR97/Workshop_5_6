{
  "cells": [
    {
      "cell_type": "markdown",
      "metadata": {},
      "source": [
        "# Introduction\n",
        "\n",
        "(escrever objetivo da atividade)\n",
        "\n",
        "# Python\n",
        "\n",
        "Python stands out as a high-level programming language. Beyond its versatility and ease of learning, Python boasts an extensive ecosystem, enabling the utilization of a myriad of diverse libraries.\n",
        "\n",
        "# Modules, Packages and Libraries\n",
        "\n",
        "A module serves as a repository of functions or methods. A package, in turn, comprises a set of modules. A library is an assembly of packages. Libraries facilitate code reusability by offering pre-built features for diverse problems, thereby obviating the necessity to repeatedly recreate identical code.\n",
        "In this workshop, we will make use of the following libraries:\n",
        "\n",
        "* numpy\n",
        "* pandas\n",
        "* scikit-learn\n",
        "* tensorflow\n",
        "* matplotlib\n",
        "* seaborn\n",
        "* plotl\n",
        "\n",
        "\n",
        "Below are exemplified two ways of importing a library.y.st"
      ]
    },
    {
      "cell_type": "code",
      "execution_count": 1,
      "metadata": {
        "trusted": true
      },
      "outputs": [],
      "source": [
        "import numpy as np\n",
        "from numpy import array"
      ]
    },
    {
      "cell_type": "markdown",
      "metadata": {},
      "source": [
        "In the first case, the library is imported in its entirety. In the second case, only a specific method is imported.\n",
        "\n",
        "Import all the remaining libraries in their entirety."
      ]
    },
    {
      "cell_type": "code",
      "execution_count": null,
      "metadata": {
        "trusted": true
      },
      "outputs": [],
      "source": []
    },
    {
      "cell_type": "markdown",
      "metadata": {},
      "source": [
        "# Dataset\n",
        "\n",
        "A dataset is a compilation of data, encompassing not only tabular forms but also various types such as images, text, and more. A tabular dataset is composed of objects and features, a set of characteristics/variables of a specific object. Variables enable the storage and representation of values. In Python, there is no need to predefine the variable type.\n",
        "\n",
        "Type of variables:\n",
        "- string;\n",
        "- numeric (integer or float);\n",
        "- boolean;\n",
        "- lists;\n",
        "- tuples;\n",
        "- dictionaries.\n",
        "\n",
        "\n",
        "# pandas\n",
        "\n",
        "According to its creators, \"pandas is a fast, powerful, flexible and easy to use open source data analysis and manipulation tool\".\n",
        "(Será que é preciso explicar mais do que isto)\n",
        "\n",
        "Types of pandas data structures:\n",
        "- Series;\n",
        "- Dataframes.\n",
        "\n",
        "Series are one-dimensional arrays of data, while Dataframes are two-dimensional tabular data structures capable of storing multiple columns.\n",
        "\n",
        "##Series\n",
        "\n",
        "Typically, when working with simple structures like Series, one tends to use the **numpy** library.\n",
        "\n",
        "\n",
        "\n",
        "\n",
        "\n"
      ]
    },
    {
      "cell_type": "markdown",
      "metadata": {
        "trusted": true
      },
      "source": [
        "## Dataset"
      ]
    },
    {
      "cell_type": "code",
      "execution_count": 2,
      "metadata": {},
      "outputs": [],
      "source": [
        "import pandas as pd"
      ]
    },
    {
      "cell_type": "code",
      "execution_count": 3,
      "metadata": {},
      "outputs": [],
      "source": [
        "opened_data = pd.read_csv(\"data/all_stocks_5yr.csv\")"
      ]
    },
    {
      "cell_type": "code",
      "execution_count": 4,
      "metadata": {},
      "outputs": [
        {
          "data": {
            "text/html": [
              "<div>\n",
              "<style scoped>\n",
              "    .dataframe tbody tr th:only-of-type {\n",
              "        vertical-align: middle;\n",
              "    }\n",
              "\n",
              "    .dataframe tbody tr th {\n",
              "        vertical-align: top;\n",
              "    }\n",
              "\n",
              "    .dataframe thead th {\n",
              "        text-align: right;\n",
              "    }\n",
              "</style>\n",
              "<table border=\"1\" class=\"dataframe\">\n",
              "  <thead>\n",
              "    <tr style=\"text-align: right;\">\n",
              "      <th></th>\n",
              "      <th>date</th>\n",
              "      <th>open</th>\n",
              "      <th>high</th>\n",
              "      <th>low</th>\n",
              "      <th>close</th>\n",
              "      <th>volume</th>\n",
              "      <th>Name</th>\n",
              "    </tr>\n",
              "  </thead>\n",
              "  <tbody>\n",
              "    <tr>\n",
              "      <th>0</th>\n",
              "      <td>2013-02-08</td>\n",
              "      <td>15.07</td>\n",
              "      <td>15.12</td>\n",
              "      <td>14.63</td>\n",
              "      <td>14.75</td>\n",
              "      <td>8407500</td>\n",
              "      <td>AAL</td>\n",
              "    </tr>\n",
              "    <tr>\n",
              "      <th>1</th>\n",
              "      <td>2013-02-11</td>\n",
              "      <td>14.89</td>\n",
              "      <td>15.01</td>\n",
              "      <td>14.26</td>\n",
              "      <td>14.46</td>\n",
              "      <td>8882000</td>\n",
              "      <td>AAL</td>\n",
              "    </tr>\n",
              "    <tr>\n",
              "      <th>2</th>\n",
              "      <td>2013-02-12</td>\n",
              "      <td>14.45</td>\n",
              "      <td>14.51</td>\n",
              "      <td>14.10</td>\n",
              "      <td>14.27</td>\n",
              "      <td>8126000</td>\n",
              "      <td>AAL</td>\n",
              "    </tr>\n",
              "    <tr>\n",
              "      <th>3</th>\n",
              "      <td>2013-02-13</td>\n",
              "      <td>14.30</td>\n",
              "      <td>14.94</td>\n",
              "      <td>14.25</td>\n",
              "      <td>14.66</td>\n",
              "      <td>10259500</td>\n",
              "      <td>AAL</td>\n",
              "    </tr>\n",
              "    <tr>\n",
              "      <th>4</th>\n",
              "      <td>2013-02-14</td>\n",
              "      <td>14.94</td>\n",
              "      <td>14.96</td>\n",
              "      <td>13.16</td>\n",
              "      <td>13.99</td>\n",
              "      <td>31879900</td>\n",
              "      <td>AAL</td>\n",
              "    </tr>\n",
              "  </tbody>\n",
              "</table>\n",
              "</div>"
            ],
            "text/plain": [
              "         date   open   high    low  close    volume Name\n",
              "0  2013-02-08  15.07  15.12  14.63  14.75   8407500  AAL\n",
              "1  2013-02-11  14.89  15.01  14.26  14.46   8882000  AAL\n",
              "2  2013-02-12  14.45  14.51  14.10  14.27   8126000  AAL\n",
              "3  2013-02-13  14.30  14.94  14.25  14.66  10259500  AAL\n",
              "4  2013-02-14  14.94  14.96  13.16  13.99  31879900  AAL"
            ]
          },
          "execution_count": 4,
          "metadata": {},
          "output_type": "execute_result"
        }
      ],
      "source": [
        "opened_data.head(5)"
      ]
    },
    {
      "cell_type": "markdown",
      "metadata": {},
      "source": [
        "- volume: number of available stock\n",
        "- date: date of evaluation\n",
        "- open: value at the beginning of the day\n",
        "- **close**: value at the end of the day\n",
        "- high: highest price in the day\n",
        "- low: lowest price in the day"
      ]
    },
    {
      "cell_type": "code",
      "execution_count": 5,
      "metadata": {},
      "outputs": [],
      "source": [
        "opened_data[\"date\"] = pd.to_datetime(opened_data[\"date\"])\n",
        "opened_data[\"year\"] = pd.DatetimeIndex(opened_data[\"date\"]).year\n",
        "opened_data[\"month\"] = pd.DatetimeIndex(opened_data[\"date\"]).month\n",
        "opened_data[\"day\"] = pd.DatetimeIndex(opened_data[\"date\"]).day"
      ]
    },
    {
      "cell_type": "markdown",
      "metadata": {},
      "source": [
        "## Exercise: How many different years appear in the dataset?"
      ]
    },
    {
      "cell_type": "code",
      "execution_count": 6,
      "metadata": {},
      "outputs": [
        {
          "name": "stdout",
          "output_type": "stream",
          "text": [
            "Unique years [2013 2014 2015 2016 2017 2018]\n"
          ]
        }
      ],
      "source": [
        "unique_years = opened_data[\"year\"].unique()\n",
        "\n",
        "print(\"Unique years\", unique_years)"
      ]
    },
    {
      "cell_type": "markdown",
      "metadata": {},
      "source": [
        "## Exercise: What is the percentage of rows from 2018?"
      ]
    },
    {
      "cell_type": "code",
      "execution_count": 7,
      "metadata": {},
      "outputs": [
        {
          "name": "stdout",
          "output_type": "stream",
          "text": [
            "Percentage of rows relative to 2018: 2.12 %\n"
          ]
        }
      ],
      "source": [
        "last_year_subset = opened_data[opened_data[\"year\"] == 2018]\n",
        "print(f\"Percentage of rows relative to 2018: {round((last_year_subset.shape[0] / opened_data.shape[0]) * 100, 2)} %\")"
      ]
    },
    {
      "cell_type": "markdown",
      "metadata": {},
      "source": [
        "## Exercise: What is the percentage of rows for each year?"
      ]
    },
    {
      "cell_type": "code",
      "execution_count": 8,
      "metadata": {},
      "outputs": [
        {
          "name": "stdout",
          "output_type": "stream",
          "text": [
            "Percentage of rows relative to 2013: 17.52 %\n",
            "Percentage of rows relative to 2014: 19.77 %\n",
            "Percentage of rows relative to 2015: 19.99 %\n",
            "Percentage of rows relative to 2016: 20.24 %\n",
            "Percentage of rows relative to 2017: 20.36 %\n",
            "Percentage of rows relative to 2018: 2.12 %\n"
          ]
        }
      ],
      "source": [
        "for current_year in unique_years:\n",
        "    current_year_subset = opened_data[opened_data[\"year\"] == current_year]\n",
        "    print(f\"Percentage of rows relative to {current_year}: {round((current_year_subset.shape[0] / opened_data.shape[0]) * 100, 2)} %\")"
      ]
    },
    {
      "cell_type": "code",
      "execution_count": 9,
      "metadata": {},
      "outputs": [
        {
          "data": {
            "text/plain": [
              "505"
            ]
          },
          "execution_count": 9,
          "metadata": {},
          "output_type": "execute_result"
        }
      ],
      "source": [
        "len(opened_data[\"Name\"].unique())"
      ]
    },
    {
      "cell_type": "code",
      "execution_count": 10,
      "metadata": {},
      "outputs": [],
      "source": [
        "trimmed_data = opened_data[[\"close\", \"Name\", \"year\"]]"
      ]
    },
    {
      "cell_type": "code",
      "execution_count": 11,
      "metadata": {},
      "outputs": [],
      "source": [
        "columns = []\n",
        "for current_year in unique_years:\n",
        "    current_subset = trimmed_data[trimmed_data[\"year\"] == current_year]\n",
        "    grouped_current_subset = current_subset.groupby([\"Name\"]).mean()\n",
        "    yearly_column_name = str(current_year) + \"_close\"\n",
        "    grouped_current_subset.columns = [yearly_column_name, \"year\"]\n",
        "    only_data_column = grouped_current_subset.drop(columns=[\"year\"]) \n",
        "\n",
        "    columns.append(only_data_column)"
      ]
    },
    {
      "cell_type": "code",
      "execution_count": 12,
      "metadata": {},
      "outputs": [],
      "source": [
        "reformed_df = pd.concat(columns, axis = 1)"
      ]
    },
    {
      "cell_type": "code",
      "execution_count": 13,
      "metadata": {},
      "outputs": [],
      "source": [
        "reformed_df.to_csv(\"data/processed_stock_data.csv\")"
      ]
    },
    {
      "cell_type": "code",
      "execution_count": 14,
      "metadata": {},
      "outputs": [
        {
          "data": {
            "text/html": [
              "<div>\n",
              "<style scoped>\n",
              "    .dataframe tbody tr th:only-of-type {\n",
              "        vertical-align: middle;\n",
              "    }\n",
              "\n",
              "    .dataframe tbody tr th {\n",
              "        vertical-align: top;\n",
              "    }\n",
              "\n",
              "    .dataframe thead th {\n",
              "        text-align: right;\n",
              "    }\n",
              "</style>\n",
              "<table border=\"1\" class=\"dataframe\">\n",
              "  <thead>\n",
              "    <tr style=\"text-align: right;\">\n",
              "      <th></th>\n",
              "      <th>2013_close</th>\n",
              "      <th>2014_close</th>\n",
              "      <th>2015_close</th>\n",
              "      <th>2016_close</th>\n",
              "      <th>2017_close</th>\n",
              "      <th>2018_close</th>\n",
              "    </tr>\n",
              "    <tr>\n",
              "      <th>Name</th>\n",
              "      <th></th>\n",
              "      <th></th>\n",
              "      <th></th>\n",
              "      <th></th>\n",
              "      <th></th>\n",
              "      <th></th>\n",
              "    </tr>\n",
              "  </thead>\n",
              "  <tbody>\n",
              "    <tr>\n",
              "      <th>A</th>\n",
              "      <td>47.104823</td>\n",
              "      <td>54.119802</td>\n",
              "      <td>39.602143</td>\n",
              "      <td>43.369960</td>\n",
              "      <td>59.339641</td>\n",
              "      <td>71.471154</td>\n",
              "    </tr>\n",
              "    <tr>\n",
              "      <th>AAL</th>\n",
              "      <td>18.601549</td>\n",
              "      <td>38.923550</td>\n",
              "      <td>45.121607</td>\n",
              "      <td>38.183829</td>\n",
              "      <td>47.490717</td>\n",
              "      <td>54.280000</td>\n",
              "    </tr>\n",
              "    <tr>\n",
              "      <th>AAP</th>\n",
              "      <td>86.547699</td>\n",
              "      <td>130.955000</td>\n",
              "      <td>163.647262</td>\n",
              "      <td>155.487937</td>\n",
              "      <td>122.576494</td>\n",
              "      <td>114.789231</td>\n",
              "    </tr>\n",
              "    <tr>\n",
              "      <th>AAPL</th>\n",
              "      <td>67.237839</td>\n",
              "      <td>92.264531</td>\n",
              "      <td>120.039861</td>\n",
              "      <td>104.604008</td>\n",
              "      <td>150.585080</td>\n",
              "      <td>171.594231</td>\n",
              "    </tr>\n",
              "    <tr>\n",
              "      <th>ABBV</th>\n",
              "      <td>44.550177</td>\n",
              "      <td>55.460079</td>\n",
              "      <td>62.104246</td>\n",
              "      <td>60.668056</td>\n",
              "      <td>75.167769</td>\n",
              "      <td>106.858462</td>\n",
              "    </tr>\n",
              "  </tbody>\n",
              "</table>\n",
              "</div>"
            ],
            "text/plain": [
              "      2013_close  2014_close  2015_close  2016_close  2017_close  2018_close\n",
              "Name                                                                        \n",
              "A      47.104823   54.119802   39.602143   43.369960   59.339641   71.471154\n",
              "AAL    18.601549   38.923550   45.121607   38.183829   47.490717   54.280000\n",
              "AAP    86.547699  130.955000  163.647262  155.487937  122.576494  114.789231\n",
              "AAPL   67.237839   92.264531  120.039861  104.604008  150.585080  171.594231\n",
              "ABBV   44.550177   55.460079   62.104246   60.668056   75.167769  106.858462"
            ]
          },
          "execution_count": 14,
          "metadata": {},
          "output_type": "execute_result"
        }
      ],
      "source": [
        "reformed_df.head(5)"
      ]
    },
    {
      "cell_type": "code",
      "execution_count": 15,
      "metadata": {},
      "outputs": [],
      "source": [
        "yearly_average_df = reformed_df.mean(axis = 0)"
      ]
    },
    {
      "cell_type": "code",
      "execution_count": 16,
      "metadata": {},
      "outputs": [
        {
          "data": {
            "text/plain": [
              "<Axes: >"
            ]
          },
          "execution_count": 16,
          "metadata": {},
          "output_type": "execute_result"
        },
        {
          "data": {
            "image/png": "[encoded data removed]",
            "text/plain": [
              "<Figure size 640x480 with 1 Axes>"
            ]
          },
          "metadata": {},
          "output_type": "display_data"
        }
      ],
      "source": [
        "import seaborn as sns\n",
        "sns.barplot(yearly_average_df, legend=False)"
      ]
    },
    {
      "cell_type": "code",
      "execution_count": 17,
      "metadata": {},
      "outputs": [
        {
          "data": {
            "text/plain": [
              "([0, 1, 2, 3, 4, 5],\n",
              " [Text(0, 0, '2013_close'),\n",
              "  Text(1, 0, '2014_close'),\n",
              "  Text(2, 0, '2015_close'),\n",
              "  Text(3, 0, '2016_close'),\n",
              "  Text(4, 0, '2017_close'),\n",
              "  Text(5, 0, '2018_close')])"
            ]
          },
          "execution_count": 17,
          "metadata": {},
          "output_type": "execute_result"
        },
        {
          "data": {
            "image/png": "[encoded data removed]",
            "text/plain": [
              "<Figure size 640x480 with 1 Axes>"
            ]
          },
          "metadata": {},
          "output_type": "display_data"
        }
      ],
      "source": [
        "import seaborn as sns\n",
        "import matplotlib.pyplot as plt\n",
        "\n",
        "sns.barplot(yearly_average_df, legend=False)\n",
        "plt.title(\"Yearly stock value\")\n",
        "plt.xticks(rotation=45)"
      ]
    },
    {
      "cell_type": "code",
      "execution_count": 18,
      "metadata": {},
      "outputs": [
        {
          "data": {
            "text/plain": [
              "<Axes: >"
            ]
          },
          "execution_count": 18,
          "metadata": {},
          "output_type": "execute_result"
        },
        {
          "data": {
            "image/png": "[encoded data removed]",
            "text/plain": [
              "<Figure size 640x480 with 1 Axes>"
            ]
          },
          "metadata": {},
          "output_type": "display_data"
        }
      ],
      "source": [
        "sns.boxplot(reformed_df)"
      ]
    },
    {
      "cell_type": "markdown",
      "metadata": {},
      "source": [
        "## Exercise: Build a violinplot to further assess the distribution"
      ]
    },
    {
      "cell_type": "code",
      "execution_count": 19,
      "metadata": {},
      "outputs": [
        {
          "data": {
            "text/plain": [
              "<Axes: >"
            ]
          },
          "execution_count": 19,
          "metadata": {},
          "output_type": "execute_result"
        },
        {
          "data": {
            "image/png": "[encoded data removed]",
            "text/plain": [
              "<Figure size 640x480 with 1 Axes>"
            ]
          },
          "metadata": {},
          "output_type": "display_data"
        }
      ],
      "source": [
        "sns.violinplot(reformed_df)"
      ]
    },
    {
      "cell_type": "markdown",
      "metadata": {},
      "source": [
        "## Exercise: Identify the top 5 stocks with highest closing in 2018 and build a lineplot with the years as the x-axis"
      ]
    },
    {
      "cell_type": "code",
      "execution_count": 20,
      "metadata": {},
      "outputs": [],
      "source": [
        "sorted_df = reformed_df.sort_values(by=\"2018_close\", ascending=False).head(5)"
      ]
    },
    {
      "cell_type": "code",
      "execution_count": 21,
      "metadata": {},
      "outputs": [
        {
          "data": {
            "text/html": [
              "<div>\n",
              "<style scoped>\n",
              "    .dataframe tbody tr th:only-of-type {\n",
              "        vertical-align: middle;\n",
              "    }\n",
              "\n",
              "    .dataframe tbody tr th {\n",
              "        vertical-align: top;\n",
              "    }\n",
              "\n",
              "    .dataframe thead th {\n",
              "        text-align: right;\n",
              "    }\n",
              "</style>\n",
              "<table border=\"1\" class=\"dataframe\">\n",
              "  <thead>\n",
              "    <tr style=\"text-align: right;\">\n",
              "      <th></th>\n",
              "      <th>2013_close</th>\n",
              "      <th>2014_close</th>\n",
              "      <th>2015_close</th>\n",
              "      <th>2016_close</th>\n",
              "      <th>2017_close</th>\n",
              "      <th>2018_close</th>\n",
              "    </tr>\n",
              "    <tr>\n",
              "      <th>Name</th>\n",
              "      <th></th>\n",
              "      <th></th>\n",
              "      <th></th>\n",
              "      <th></th>\n",
              "      <th></th>\n",
              "      <th></th>\n",
              "    </tr>\n",
              "  </thead>\n",
              "  <tbody>\n",
              "    <tr>\n",
              "      <th>PCLN</th>\n",
              "      <td>901.450283</td>\n",
              "      <td>1197.960952</td>\n",
              "      <td>1219.880952</td>\n",
              "      <td>1346.712698</td>\n",
              "      <td>1798.154542</td>\n",
              "      <td>1891.364231</td>\n",
              "    </tr>\n",
              "    <tr>\n",
              "      <th>AMZN</th>\n",
              "      <td>301.564912</td>\n",
              "      <td>332.550976</td>\n",
              "      <td>478.138194</td>\n",
              "      <td>699.523135</td>\n",
              "      <td>968.151394</td>\n",
              "      <td>1329.184615</td>\n",
              "    </tr>\n",
              "    <tr>\n",
              "      <th>GOOGL</th>\n",
              "      <td>450.819396</td>\n",
              "      <td>568.122203</td>\n",
              "      <td>619.988234</td>\n",
              "      <td>763.214206</td>\n",
              "      <td>939.773386</td>\n",
              "      <td>1131.934615</td>\n",
              "    </tr>\n",
              "    <tr>\n",
              "      <th>GOOG</th>\n",
              "      <td>NaN</td>\n",
              "      <td>554.184891</td>\n",
              "      <td>602.461349</td>\n",
              "      <td>743.485119</td>\n",
              "      <td>921.781394</td>\n",
              "      <td>1123.490769</td>\n",
              "    </tr>\n",
              "    <tr>\n",
              "      <th>AZO</th>\n",
              "      <td>421.687832</td>\n",
              "      <td>534.733730</td>\n",
              "      <td>696.877976</td>\n",
              "      <td>768.858849</td>\n",
              "      <td>640.436534</td>\n",
              "      <td>770.665385</td>\n",
              "    </tr>\n",
              "  </tbody>\n",
              "</table>\n",
              "</div>"
            ],
            "text/plain": [
              "       2013_close   2014_close   2015_close   2016_close   2017_close  \\\n",
              "Name                                                                    \n",
              "PCLN   901.450283  1197.960952  1219.880952  1346.712698  1798.154542   \n",
              "AMZN   301.564912   332.550976   478.138194   699.523135   968.151394   \n",
              "GOOGL  450.819396   568.122203   619.988234   763.214206   939.773386   \n",
              "GOOG          NaN   554.184891   602.461349   743.485119   921.781394   \n",
              "AZO    421.687832   534.733730   696.877976   768.858849   640.436534   \n",
              "\n",
              "        2018_close  \n",
              "Name                \n",
              "PCLN   1891.364231  \n",
              "AMZN   1329.184615  \n",
              "GOOGL  1131.934615  \n",
              "GOOG   1123.490769  \n",
              "AZO     770.665385  "
            ]
          },
          "execution_count": 21,
          "metadata": {},
          "output_type": "execute_result"
        }
      ],
      "source": [
        "sorted_df"
      ]
    },
    {
      "cell_type": "code",
      "execution_count": 22,
      "metadata": {},
      "outputs": [
        {
          "data": {
            "text/plain": [
              "([0, 1, 2, 3, 4, 5],\n",
              " [Text(0, 0, '2013_close'),\n",
              "  Text(1, 0, '2014_close'),\n",
              "  Text(2, 0, '2015_close'),\n",
              "  Text(3, 0, '2016_close'),\n",
              "  Text(4, 0, '2017_close'),\n",
              "  Text(5, 0, '2018_close')])"
            ]
          },
          "execution_count": 22,
          "metadata": {},
          "output_type": "execute_result"
        },
        {
          "data": {
            "image/png": "[encoded data removed]",
            "text/plain": [
              "<Figure size 640x480 with 1 Axes>"
            ]
          },
          "metadata": {},
          "output_type": "display_data"
        }
      ],
      "source": [
        "sns.lineplot(sorted_df.transpose())\n",
        "plt.title(\"Top 5 stocks in 2018 previous years\")\n",
        "plt.xticks(rotation=45)"
      ]
    },
    {
      "cell_type": "markdown",
      "metadata": {},
      "source": [
        "## Data pre-processing"
      ]
    },
    {
      "cell_type": "markdown",
      "metadata": {},
      "source": [
        "### Outlier detection and handling"
      ]
    },
    {
      "cell_type": "code",
      "execution_count": 23,
      "metadata": {},
      "outputs": [],
      "source": [
        "quantile_low = reformed_df[\"2018_close\"].quantile(0.01)\n",
        "quantile_high  = reformed_df[\"2018_close\"].quantile(0.99)\n",
        "\n",
        "reformed_df_filtered = reformed_df[(reformed_df[\"2018_close\"] < quantile_high) & (reformed_df[\"2018_close\"] > quantile_low)]"
      ]
    },
    {
      "cell_type": "code",
      "execution_count": 24,
      "metadata": {},
      "outputs": [
        {
          "data": {
            "text/html": [
              "<div>\n",
              "<style scoped>\n",
              "    .dataframe tbody tr th:only-of-type {\n",
              "        vertical-align: middle;\n",
              "    }\n",
              "\n",
              "    .dataframe tbody tr th {\n",
              "        vertical-align: top;\n",
              "    }\n",
              "\n",
              "    .dataframe thead th {\n",
              "        text-align: right;\n",
              "    }\n",
              "</style>\n",
              "<table border=\"1\" class=\"dataframe\">\n",
              "  <thead>\n",
              "    <tr style=\"text-align: right;\">\n",
              "      <th></th>\n",
              "      <th>2013_close</th>\n",
              "      <th>2014_close</th>\n",
              "      <th>2015_close</th>\n",
              "      <th>2016_close</th>\n",
              "      <th>2017_close</th>\n",
              "      <th>2018_close</th>\n",
              "    </tr>\n",
              "    <tr>\n",
              "      <th>Name</th>\n",
              "      <th></th>\n",
              "      <th></th>\n",
              "      <th></th>\n",
              "      <th></th>\n",
              "      <th></th>\n",
              "      <th></th>\n",
              "    </tr>\n",
              "  </thead>\n",
              "  <tbody>\n",
              "    <tr>\n",
              "      <th>AMZN</th>\n",
              "      <td>301.564912</td>\n",
              "      <td>332.550976</td>\n",
              "      <td>478.138194</td>\n",
              "      <td>699.523135</td>\n",
              "      <td>968.151394</td>\n",
              "      <td>1329.184615</td>\n",
              "    </tr>\n",
              "    <tr>\n",
              "      <th>AZO</th>\n",
              "      <td>421.687832</td>\n",
              "      <td>534.733730</td>\n",
              "      <td>696.877976</td>\n",
              "      <td>768.858849</td>\n",
              "      <td>640.436534</td>\n",
              "      <td>770.665385</td>\n",
              "    </tr>\n",
              "    <tr>\n",
              "      <th>GOOGL</th>\n",
              "      <td>450.819396</td>\n",
              "      <td>568.122203</td>\n",
              "      <td>619.988234</td>\n",
              "      <td>763.214206</td>\n",
              "      <td>939.773386</td>\n",
              "      <td>1131.934615</td>\n",
              "    </tr>\n",
              "    <tr>\n",
              "      <th>MTD</th>\n",
              "      <td>225.781239</td>\n",
              "      <td>255.906548</td>\n",
              "      <td>318.952063</td>\n",
              "      <td>375.564921</td>\n",
              "      <td>561.722629</td>\n",
              "      <td>655.880000</td>\n",
              "    </tr>\n",
              "    <tr>\n",
              "      <th>PCLN</th>\n",
              "      <td>901.450283</td>\n",
              "      <td>1197.960952</td>\n",
              "      <td>1219.880952</td>\n",
              "      <td>1346.712698</td>\n",
              "      <td>1798.154542</td>\n",
              "      <td>1891.364231</td>\n",
              "    </tr>\n",
              "    <tr>\n",
              "      <th>GOOG</th>\n",
              "      <td>NaN</td>\n",
              "      <td>554.184891</td>\n",
              "      <td>602.461349</td>\n",
              "      <td>743.485119</td>\n",
              "      <td>921.781394</td>\n",
              "      <td>1123.490769</td>\n",
              "    </tr>\n",
              "  </tbody>\n",
              "</table>\n",
              "</div>"
            ],
            "text/plain": [
              "       2013_close   2014_close   2015_close   2016_close   2017_close  \\\n",
              "Name                                                                    \n",
              "AMZN   301.564912   332.550976   478.138194   699.523135   968.151394   \n",
              "AZO    421.687832   534.733730   696.877976   768.858849   640.436534   \n",
              "GOOGL  450.819396   568.122203   619.988234   763.214206   939.773386   \n",
              "MTD    225.781239   255.906548   318.952063   375.564921   561.722629   \n",
              "PCLN   901.450283  1197.960952  1219.880952  1346.712698  1798.154542   \n",
              "GOOG          NaN   554.184891   602.461349   743.485119   921.781394   \n",
              "\n",
              "        2018_close  \n",
              "Name                \n",
              "AMZN   1329.184615  \n",
              "AZO     770.665385  \n",
              "GOOGL  1131.934615  \n",
              "MTD     655.880000  \n",
              "PCLN   1891.364231  \n",
              "GOOG   1123.490769  "
            ]
          },
          "execution_count": 24,
          "metadata": {},
          "output_type": "execute_result"
        }
      ],
      "source": [
        "reformed_df[reformed_df[\"2018_close\"] > quantile_high]"
      ]
    },
    {
      "cell_type": "markdown",
      "metadata": {},
      "source": [
        "## Features, target variable"
      ]
    },
    {
      "cell_type": "code",
      "execution_count": 25,
      "metadata": {},
      "outputs": [],
      "source": [
        "features = reformed_df.drop(columns = [\"2018_close\"])"
      ]
    },
    {
      "cell_type": "code",
      "execution_count": 26,
      "metadata": {},
      "outputs": [],
      "source": [
        "target_variable = reformed_df[\"2018_close\"]"
      ]
    },
    {
      "cell_type": "markdown",
      "metadata": {},
      "source": [
        "## Data spliting"
      ]
    },
    {
      "cell_type": "code",
      "execution_count": 27,
      "metadata": {},
      "outputs": [],
      "source": [
        "from sklearn.model_selection import train_test_split"
      ]
    },
    {
      "cell_type": "code",
      "execution_count": 28,
      "metadata": {},
      "outputs": [],
      "source": [
        "train_features, test_features, train_target, test_target = train_test_split(features, target_variable, random_state = 42)"
      ]
    },
    {
      "cell_type": "code",
      "execution_count": 29,
      "metadata": {},
      "outputs": [
        {
          "name": "stdout",
          "output_type": "stream",
          "text": [
            "(378, 5) (127, 5) (378,) (127,)\n"
          ]
        }
      ],
      "source": [
        "print(train_features.shape, test_features.shape, train_target.shape, test_target.shape)"
      ]
    },
    {
      "cell_type": "markdown",
      "metadata": {},
      "source": [
        "## Data Standardization"
      ]
    },
    {
      "cell_type": "code",
      "execution_count": 30,
      "metadata": {},
      "outputs": [],
      "source": [
        "from sklearn.preprocessing import StandardScaler"
      ]
    },
    {
      "cell_type": "code",
      "execution_count": 31,
      "metadata": {},
      "outputs": [],
      "source": [
        "scaler = StandardScaler()"
      ]
    },
    {
      "cell_type": "code",
      "execution_count": 32,
      "metadata": {},
      "outputs": [
        {
          "data": {
            "text/html": [
              "<style>#sk-container-id-1 {color: black;background-color: white;}#sk-container-id-1 pre{padding: 0;}#sk-container-id-1 div.sk-toggleable {background-color: white;}#sk-container-id-1 label.sk-toggleable__label {cursor: pointer;display: block;width: 100%;margin-bottom: 0;padding: 0.3em;box-sizing: border-box;text-align: center;}#sk-container-id-1 label.sk-toggleable__label-arrow:before {content: \"▸\";float: left;margin-right: 0.25em;color: #696969;}#sk-container-id-1 label.sk-toggleable__label-arrow:hover:before {color: black;}#sk-container-id-1 div.sk-estimator:hover label.sk-toggleable__label-arrow:before {color: black;}#sk-container-id-1 div.sk-toggleable__content {max-height: 0;max-width: 0;overflow: hidden;text-align: left;background-color: #f0f8ff;}#sk-container-id-1 div.sk-toggleable__content pre {margin: 0.2em;color: black;border-radius: 0.25em;background-color: #f0f8ff;}#sk-container-id-1 input.sk-toggleable__control:checked~div.sk-toggleable__content {max-height: 200px;max-width: 100%;overflow: auto;}#sk-container-id-1 input.sk-toggleable__control:checked~label.sk-toggleable__label-arrow:before {content: \"▾\";}#sk-container-id-1 div.sk-estimator input.sk-toggleable__control:checked~label.sk-toggleable__label {background-color: #d4ebff;}#sk-container-id-1 div.sk-label input.sk-toggleable__control:checked~label.sk-toggleable__label {background-color: #d4ebff;}#sk-container-id-1 input.sk-hidden--visually {border: 0;clip: rect(1px 1px 1px 1px);clip: rect(1px, 1px, 1px, 1px);height: 1px;margin: -1px;overflow: hidden;padding: 0;position: absolute;width: 1px;}#sk-container-id-1 div.sk-estimator {font-family: monospace;background-color: #f0f8ff;border: 1px dotted black;border-radius: 0.25em;box-sizing: border-box;margin-bottom: 0.5em;}#sk-container-id-1 div.sk-estimator:hover {background-color: #d4ebff;}#sk-container-id-1 div.sk-parallel-item::after {content: \"\";width: 100%;border-bottom: 1px solid gray;flex-grow: 1;}#sk-container-id-1 div.sk-label:hover label.sk-toggleable__label {background-color: #d4ebff;}#sk-container-id-1 div.sk-serial::before {content: \"\";position: absolute;border-left: 1px solid gray;box-sizing: border-box;top: 0;bottom: 0;left: 50%;z-index: 0;}#sk-container-id-1 div.sk-serial {display: flex;flex-direction: column;align-items: center;background-color: white;padding-right: 0.2em;padding-left: 0.2em;position: relative;}#sk-container-id-1 div.sk-item {position: relative;z-index: 1;}#sk-container-id-1 div.sk-parallel {display: flex;align-items: stretch;justify-content: center;background-color: white;position: relative;}#sk-container-id-1 div.sk-item::before, #sk-container-id-1 div.sk-parallel-item::before {content: \"\";position: absolute;border-left: 1px solid gray;box-sizing: border-box;top: 0;bottom: 0;left: 50%;z-index: -1;}#sk-container-id-1 div.sk-parallel-item {display: flex;flex-direction: column;z-index: 1;position: relative;background-color: white;}#sk-container-id-1 div.sk-parallel-item:first-child::after {align-self: flex-end;width: 50%;}#sk-container-id-1 div.sk-parallel-item:last-child::after {align-self: flex-start;width: 50%;}#sk-container-id-1 div.sk-parallel-item:only-child::after {width: 0;}#sk-container-id-1 div.sk-dashed-wrapped {border: 1px dashed gray;margin: 0 0.4em 0.5em 0.4em;box-sizing: border-box;padding-bottom: 0.4em;background-color: white;}#sk-container-id-1 div.sk-label label {font-family: monospace;font-weight: bold;display: inline-block;line-height: 1.2em;}#sk-container-id-1 div.sk-label-container {text-align: center;}#sk-container-id-1 div.sk-container {/* jupyter's `normalize.less` sets `[hidden] { display: none; }` but bootstrap.min.css set `[hidden] { display: none !important; }` so we also need the `!important` here to be able to override the default hidden behavior on the sphinx rendered scikit-learn.org. See: https://github.com/scikit-learn/scikit-learn/issues/21755 */display: inline-block !important;position: relative;}#sk-container-id-1 div.sk-text-repr-fallback {display: none;}</style><div id=\"sk-container-id-1\" class=\"sk-top-container\"><div class=\"sk-text-repr-fallback\"><pre>StandardScaler()</pre><b>In a Jupyter environment, please rerun this cell to show the HTML representation or trust the notebook. <br />On GitHub, the HTML representation is unable to render, please try loading this page with nbviewer.org.</b></div><div class=\"sk-container\" hidden><div class=\"sk-item\"><div class=\"sk-estimator sk-toggleable\"><input class=\"sk-toggleable__control sk-hidden--visually\" id=\"sk-estimator-id-1\" type=\"checkbox\" checked><label for=\"sk-estimator-id-1\" class=\"sk-toggleable__label sk-toggleable__label-arrow\">StandardScaler</label><div class=\"sk-toggleable__content\"><pre>StandardScaler()</pre></div></div></div></div></div>"
            ],
            "text/plain": [
              "StandardScaler()"
            ]
          },
          "execution_count": 32,
          "metadata": {},
          "output_type": "execute_result"
        }
      ],
      "source": [
        "scaler.fit(train_features)\n"
      ]
    },
    {
      "cell_type": "code",
      "execution_count": 33,
      "metadata": {},
      "outputs": [],
      "source": [
        "scaled_train_features = scaler.transform(train_features)\n",
        "scaled_test_features = scaler.transform(test_features)"
      ]
    },
    {
      "cell_type": "markdown",
      "metadata": {},
      "source": [
        "## Machine Learning model"
      ]
    },
    {
      "cell_type": "code",
      "execution_count": 34,
      "metadata": {},
      "outputs": [],
      "source": [
        "from sklearn.neighbors import KNeighborsRegressor"
      ]
    },
    {
      "cell_type": "code",
      "execution_count": null,
      "metadata": {},
      "outputs": [],
      "source": []
    }
  ],
  "metadata": {
    "kernelspec": {
      "display_name": "Peptides",
      "language": "python",
      "name": "python3"
    },
    "language_info": {
      "codemirror_mode": {
        "name": "ipython",
        "version": 3
      },
      "file_extension": ".py",
      "mimetype": "text/x-python",
      "name": "python",
      "nbconvert_exporter": "python",
      "pygments_lexer": "ipython3",
      "version": "3.10.8"
    }
  },
  "nbformat": 4,
  "nbformat_minor": 4
}
