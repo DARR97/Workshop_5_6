{
  "cells": [
    {
      "cell_type": "markdown",
      "metadata": {},
      "source": [
        "# Introduction\n",
        "\n",
        "(escrever objetivo da atividade)\n",
        "\n",
        "# Python\n",
        "\n",
        "Python stands out as a high-level programming language. Beyond its versatility and ease of learning, Python boasts an extensive ecosystem, enabling the utilization of a myriad of diverse libraries.\n",
        "\n",
        "# Modules, Packages and Libraries\n",
        "\n",
        "A module serves as a repository of functions or methods. A package, in turn, comprises a set of modules. A library is an assembly of packages. Libraries facilitate code reusability by offering pre-built features for diverse problems, thereby obviating the necessity to repeatedly recreate identical code.\n",
        "In this workshop, we will make use of the following libraries:\n",
        "\n",
        "* numpy\n",
        "* pandas\n",
        "* scikit-learn\n",
        "* tensorflow\n",
        "* matplotlib\n",
        "* seaborn\n",
        "* plotl\n",
        "\n",
        "\n",
        "Below are exemplified two ways of importing a library.y.st"
      ]
    },
    {
      "cell_type": "code",
      "execution_count": 1,
      "metadata": {
        "trusted": true
      },
      "outputs": [],
      "source": [
        "import numpy as np\n",
        "from numpy import array"
      ]
    },
    {
      "cell_type": "markdown",
      "metadata": {},
      "source": [
        "In the first case, the library is imported in its entirety. In the second case, only a specific method is imported.\n",
        "\n",
        "Import all the remaining libraries in their entirety."
      ]
    },
    {
      "cell_type": "code",
      "execution_count": null,
      "metadata": {
        "trusted": true
      },
      "outputs": [],
      "source": []
    },
    {
      "cell_type": "markdown",
      "metadata": {},
      "source": [
        "# Dataset\n",
        "\n",
        "A dataset is a compilation of data, encompassing not only tabular forms but also various types such as images, text, and more. A tabular dataset is composed of objects and features, a set of characteristics/variables of a specific object. Variables enable the storage and representation of values. In Python, there is no need to predefine the variable type.\n",
        "\n",
        "Type of variables:\n",
        "- string;\n",
        "- numeric (integer or float);\n",
        "- boolean;\n",
        "- lists;\n",
        "- tuples;\n",
        "- dictionaries.\n",
        "\n",
        "\n",
        "# pandas\n",
        "\n",
        "According to its creators, \"pandas is a fast, powerful, flexible and easy to use open source data analysis and manipulation tool\".\n",
        "(Será que é preciso explicar mais do que isto)\n",
        "\n",
        "Types of pandas data structures:\n",
        "- Series;\n",
        "- Dataframes.\n",
        "\n",
        "Series are one-dimensional arrays of data, while Dataframes are two-dimensional tabular data structures capable of storing multiple columns.\n",
        "\n",
        "##Series\n",
        "\n",
        "Typically, when working with simple structures like Series, one tends to use the **numpy** library.\n",
        "\n",
        "\n",
        "\n",
        "\n",
        "\n"
      ]
    },
    {
      "cell_type": "markdown",
      "metadata": {
        "trusted": true
      },
      "source": [
        "## Dataset"
      ]
    },
    {
      "cell_type": "code",
      "execution_count": 3,
      "metadata": {},
      "outputs": [],
      "source": [
        "import pandas as pd"
      ]
    },
    {
      "cell_type": "code",
      "execution_count": 4,
      "metadata": {},
      "outputs": [],
      "source": [
        "opened_data = pd.read_csv(\"data/all_stocks_5yr.csv\")"
      ]
    },
    {
      "cell_type": "code",
      "execution_count": 30,
      "metadata": {},
      "outputs": [
        {
          "data": {
            "text/html": [
              "<div>\n",
              "<style scoped>\n",
              "    .dataframe tbody tr th:only-of-type {\n",
              "        vertical-align: middle;\n",
              "    }\n",
              "\n",
              "    .dataframe tbody tr th {\n",
              "        vertical-align: top;\n",
              "    }\n",
              "\n",
              "    .dataframe thead th {\n",
              "        text-align: right;\n",
              "    }\n",
              "</style>\n",
              "<table border=\"1\" class=\"dataframe\">\n",
              "  <thead>\n",
              "    <tr style=\"text-align: right;\">\n",
              "      <th></th>\n",
              "      <th>date</th>\n",
              "      <th>open</th>\n",
              "      <th>high</th>\n",
              "      <th>low</th>\n",
              "      <th>close</th>\n",
              "      <th>volume</th>\n",
              "      <th>Name</th>\n",
              "      <th>year</th>\n",
              "      <th>month</th>\n",
              "      <th>day</th>\n",
              "    </tr>\n",
              "  </thead>\n",
              "  <tbody>\n",
              "    <tr>\n",
              "      <th>0</th>\n",
              "      <td>2013-02-08</td>\n",
              "      <td>15.07</td>\n",
              "      <td>15.12</td>\n",
              "      <td>14.63</td>\n",
              "      <td>14.75</td>\n",
              "      <td>8407500</td>\n",
              "      <td>AAL</td>\n",
              "      <td>2013</td>\n",
              "      <td>2</td>\n",
              "      <td>8</td>\n",
              "    </tr>\n",
              "    <tr>\n",
              "      <th>1</th>\n",
              "      <td>2013-02-11</td>\n",
              "      <td>14.89</td>\n",
              "      <td>15.01</td>\n",
              "      <td>14.26</td>\n",
              "      <td>14.46</td>\n",
              "      <td>8882000</td>\n",
              "      <td>AAL</td>\n",
              "      <td>2013</td>\n",
              "      <td>2</td>\n",
              "      <td>11</td>\n",
              "    </tr>\n",
              "    <tr>\n",
              "      <th>2</th>\n",
              "      <td>2013-02-12</td>\n",
              "      <td>14.45</td>\n",
              "      <td>14.51</td>\n",
              "      <td>14.10</td>\n",
              "      <td>14.27</td>\n",
              "      <td>8126000</td>\n",
              "      <td>AAL</td>\n",
              "      <td>2013</td>\n",
              "      <td>2</td>\n",
              "      <td>12</td>\n",
              "    </tr>\n",
              "    <tr>\n",
              "      <th>3</th>\n",
              "      <td>2013-02-13</td>\n",
              "      <td>14.30</td>\n",
              "      <td>14.94</td>\n",
              "      <td>14.25</td>\n",
              "      <td>14.66</td>\n",
              "      <td>10259500</td>\n",
              "      <td>AAL</td>\n",
              "      <td>2013</td>\n",
              "      <td>2</td>\n",
              "      <td>13</td>\n",
              "    </tr>\n",
              "    <tr>\n",
              "      <th>4</th>\n",
              "      <td>2013-02-14</td>\n",
              "      <td>14.94</td>\n",
              "      <td>14.96</td>\n",
              "      <td>13.16</td>\n",
              "      <td>13.99</td>\n",
              "      <td>31879900</td>\n",
              "      <td>AAL</td>\n",
              "      <td>2013</td>\n",
              "      <td>2</td>\n",
              "      <td>14</td>\n",
              "    </tr>\n",
              "  </tbody>\n",
              "</table>\n",
              "</div>"
            ],
            "text/plain": [
              "        date   open   high    low  close    volume Name  year  month  day\n",
              "0 2013-02-08  15.07  15.12  14.63  14.75   8407500  AAL  2013      2    8\n",
              "1 2013-02-11  14.89  15.01  14.26  14.46   8882000  AAL  2013      2   11\n",
              "2 2013-02-12  14.45  14.51  14.10  14.27   8126000  AAL  2013      2   12\n",
              "3 2013-02-13  14.30  14.94  14.25  14.66  10259500  AAL  2013      2   13\n",
              "4 2013-02-14  14.94  14.96  13.16  13.99  31879900  AAL  2013      2   14"
            ]
          },
          "execution_count": 30,
          "metadata": {},
          "output_type": "execute_result"
        }
      ],
      "source": [
        "opened_data.head(5)"
      ]
    },
    {
      "cell_type": "markdown",
      "metadata": {},
      "source": [
        "- volume: number of available stock\n",
        "- date: date of evaluation\n",
        "- open: value at the beginning of the day\n",
        "- **close**: value at the end of the day\n",
        "- high: highest price in the day\n",
        "- low: lowest price in the day"
      ]
    },
    {
      "cell_type": "code",
      "execution_count": 20,
      "metadata": {},
      "outputs": [],
      "source": [
        "opened_data[\"date\"] = pd.to_datetime(opened_data[\"date\"])\n",
        "opened_data[\"year\"] = pd.DatetimeIndex(opened_data[\"date\"]).year\n",
        "opened_data[\"month\"] = pd.DatetimeIndex(opened_data[\"date\"]).month\n",
        "opened_data[\"day\"] = pd.DatetimeIndex(opened_data[\"date\"]).day"
      ]
    },
    {
      "cell_type": "markdown",
      "metadata": {},
      "source": [
        "## Exercise: How many different years appear in the dataset?"
      ]
    },
    {
      "cell_type": "code",
      "execution_count": 22,
      "metadata": {},
      "outputs": [
        {
          "name": "stdout",
          "output_type": "stream",
          "text": [
            "Unique years [2013 2014 2015 2016 2017 2018]\n"
          ]
        }
      ],
      "source": [
        "unique_years = opened_data[\"year\"].unique()\n",
        "\n",
        "print(\"Unique years\", unique_years)"
      ]
    },
    {
      "cell_type": "markdown",
      "metadata": {},
      "source": [
        "## Exercise: what is the percentage of rows from 2018?"
      ]
    },
    {
      "cell_type": "code",
      "execution_count": 28,
      "metadata": {},
      "outputs": [
        {
          "name": "stdout",
          "output_type": "stream",
          "text": [
            "Percentage of rows relative to 2018: 2.12 %\n"
          ]
        }
      ],
      "source": [
        "last_year_subset = opened_data[opened_data[\"year\"] == 2018]\n",
        "print(f\"Percentage of rows relative to 2018: {round((last_year_subset.shape[0] / opened_data.shape[0]) * 100, 2)} %\")"
      ]
    },
    {
      "cell_type": "markdown",
      "metadata": {},
      "source": [
        "## Exercise: what is the percentage of rows for each year?"
      ]
    },
    {
      "cell_type": "code",
      "execution_count": 25,
      "metadata": {},
      "outputs": [
        {
          "name": "stdout",
          "output_type": "stream",
          "text": [
            "Percentage of rows relative to 2013: 17.52 %\n",
            "Percentage of rows relative to 2014: 19.77 %\n",
            "Percentage of rows relative to 2015: 19.99 %\n",
            "Percentage of rows relative to 2016: 20.24 %\n",
            "Percentage of rows relative to 2017: 20.36 %\n",
            "Percentage of rows relative to 2018: 2.12 %\n"
          ]
        }
      ],
      "source": [
        "for current_year in unique_years:\n",
        "    current_year_subset = opened_data[opened_data[\"year\"] == current_year]\n",
        "    print(f\"Percentage of rows relative to {current_year}: {round((current_year_subset.shape[0] / opened_data.shape[0]) * 100, 2)} %\")"
      ]
    },
    {
      "cell_type": "code",
      "execution_count": 32,
      "metadata": {},
      "outputs": [
        {
          "data": {
            "text/plain": [
              "505"
            ]
          },
          "execution_count": 32,
          "metadata": {},
          "output_type": "execute_result"
        }
      ],
      "source": [
        "len(opened_data[\"Name\"].unique())"
      ]
    },
    {
      "cell_type": "code",
      "execution_count": 34,
      "metadata": {},
      "outputs": [],
      "source": [
        "trimmed_data = opened_data[[\"close\", \"Name\", \"year\"]]"
      ]
    },
    {
      "cell_type": "code",
      "execution_count": 74,
      "metadata": {},
      "outputs": [],
      "source": [
        "columns = []\n",
        "for current_year in unique_years:\n",
        "    current_subset = trimmed_data[trimmed_data[\"year\"] == current_year]\n",
        "    grouped_current_subset = current_subset.groupby([\"Name\"]).mean()\n",
        "    yearly_column_name = str(current_year) + \"_close\"\n",
        "    grouped_current_subset.columns = [yearly_column_name, \"year\"]\n",
        "    only_data_column = grouped_current_subset.drop(columns=[\"year\"]) \n",
        "\n",
        "    columns.append(only_data_column)"
      ]
    },
    {
      "cell_type": "code",
      "execution_count": 75,
      "metadata": {},
      "outputs": [],
      "source": [
        "reformed_df = pd.concat(columns, axis = 1)"
      ]
    },
    {
      "cell_type": "code",
      "execution_count": 77,
      "metadata": {},
      "outputs": [],
      "source": [
        "reformed_df.to_csv(\"data/processed_stock_data.csv\")"
      ]
    }
  ],
  "metadata": {
    "kernelspec": {
      "display_name": "Peptides",
      "language": "python",
      "name": "python3"
    },
    "language_info": {
      "codemirror_mode": {
        "name": "ipython",
        "version": 3
      },
      "file_extension": ".py",
      "mimetype": "text/x-python",
      "name": "python",
      "nbconvert_exporter": "python",
      "pygments_lexer": "ipython3",
      "version": "3.10.8"
    }
  },
  "nbformat": 4,
  "nbformat_minor": 4
}
