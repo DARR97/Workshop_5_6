{
  "metadata": {
    "kernelspec": {
      "name": "python",
      "display_name": "Python (Pyodide)",
      "language": "python"
    },
    "language_info": {
      "codemirror_mode": {
        "name": "python",
        "version": 3
      },
      "file_extension": ".py",
      "mimetype": "text/x-python",
      "name": "python",
      "nbconvert_exporter": "python",
      "pygments_lexer": "ipython3",
      "version": "3.8"
    }
  },
  "nbformat_minor": 4,
  "nbformat": 4,
  "cells": [
    {
      "cell_type": "markdown",
      "source": "# Introduction\n\n(escrever objetivo da atividade)\n\n# Python\n\nPython stands out as a high-level programming language. Beyond its versatility and ease of learning, Python boasts an extensive ecosystem, enabling the utilization of a myriad of diverse libraries.\n\n# Modules, Packages and Libraries\n\rA module serves as a repository of functions or methods. A package, in turn, comprises a set of modules. A library is an assembly of packages. Libraries facilitate code reusability by offering pre-built features for diverse problems, thereby obviating the necessity to repeatedly recreate identical code.\nIn this workshop, we will make use of the following libraries:\n\n* numpy\n* pandas\n* scikit-learn\n* tensorflow\n* matplotlib\n* seaborn\n* plotl\n\nBelow are exemplified two ways of importing a library.y.st",
      "metadata": {}
    },
    {
      "cell_type": "code",
      "source": "import numpy as np\nfrom numpy import array",
      "metadata": {
        "trusted": true
      },
      "outputs": [],
      "execution_count": null
    },
    {
      "cell_type": "markdown",
      "source": "In the first case, the library is imported in its entirety. In the second case, only a specific method is imported.\n\nImport all the remaining libraries in their entirety.",
      "metadata": {}
    },
    {
      "cell_type": "code",
      "source": "",
      "metadata": {
        "trusted": true
      },
      "outputs": [],
      "execution_count": null
    },
    {
      "cell_type": "markdown",
      "source": "# Dataset\n\nA dataset is a compilation of data, encompassing not only tabular forms but also various types such as images, text, and more.",
      "metadata": {}
    }
  ]
}