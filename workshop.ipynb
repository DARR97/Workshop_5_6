{
  "cells": [
    {
      "cell_type": "markdown",
      "metadata": {},
      "source": [
        "# Introduction\n",
        "\n",
        "(escrever objetivo da atividade)\n",
        "\n",
        "# Python\n",
        "\n",
        "Python stands out as a high-level programming language. Beyond its versatility and ease of learning, Python boasts an extensive ecosystem, enabling the utilization of a myriad of diverse libraries.\n",
        "\n",
        "# Modules, Packages and Libraries\n",
        "\n",
        "A module serves as a repository of functions or methods. A package, in turn, comprises a set of modules. A library is an assembly of packages. Libraries facilitate code reusability by offering pre-built features for diverse problems, thereby obviating the necessity to repeatedly recreate identical code.\n",
        "In this workshop, we will make use of the following libraries:\n",
        "\n",
        "* numpy\n",
        "* pandas\n",
        "* scikit-learn\n",
        "* tensorflow\n",
        "* matplotlib\n",
        "* seaborn\n",
        "* plotl\n",
        "\n",
        "\n",
        "Below are exemplified two ways of importing a library.y.st"
      ]
    },
    {
      "cell_type": "code",
      "execution_count": 1,
      "metadata": {
        "trusted": true
      },
      "outputs": [],
      "source": [
        "import numpy as np\n",
        "from numpy import array"
      ]
    },
    {
      "cell_type": "markdown",
      "metadata": {},
      "source": [
        "In the first case, the library is imported in its entirety. In the second case, only a specific method is imported.\n",
        "\n",
        "Import all the remaining libraries in their entirety."
      ]
    },
    {
      "cell_type": "code",
      "execution_count": null,
      "metadata": {
        "trusted": true
      },
      "outputs": [],
      "source": []
    },
    {
      "cell_type": "markdown",
      "metadata": {},
      "source": [
        "# Dataset\n",
        "\n",
        "A dataset is a compilation of data, encompassing not only tabular forms but also various types such as images, text, and more. A tabular dataset is composed of objects and features, a set of characteristics/variables of a specific object. Variables enable the storage and representation of values. In Python, there is no need to predefine the variable type.\n",
        "\n",
        "Type of variables:\n",
        "- string;\n",
        "- numeric (integer or float);\n",
        "- boolean;\n",
        "- lists;\n",
        "- tuples;\n",
        "- dictionaries.\n",
        "\n",
        "\n",
        "# pandas\n",
        "\n",
        "According to its creators, \"pandas is a fast, powerful, flexible and easy to use open source data analysis and manipulation tool\".\n",
        "(Será que é preciso explicar mais do que isto)\n",
        "\n",
        "Types of pandas data structures:\n",
        "- Series;\n",
        "- Dataframes.\n",
        "\n",
        "Series are one-dimensional arrays of data, while Dataframes are two-dimensional tabular data structures capable of storing multiple columns.\n",
        "\n",
        "##Series\n",
        "\n",
        "Typically, when working with simple structures like Series, one tends to use the **numpy** library.\n",
        "\n",
        "\n",
        "\n",
        "\n",
        "\n"
      ]
    },
    {
      "cell_type": "markdown",
      "metadata": {
        "trusted": true
      },
      "source": [
        "## Dataset"
      ]
    },
    {
      "cell_type": "code",
      "execution_count": null,
      "metadata": {},
      "outputs": [],
      "source": []
    }
  ],
  "metadata": {
    "kernelspec": {
      "display_name": "Peptides",
      "language": "python",
      "name": "python3"
    },
    "language_info": {
      "codemirror_mode": {
        "name": "ipython",
        "version": 3
      },
      "file_extension": ".py",
      "mimetype": "text/x-python",
      "name": "python",
      "nbconvert_exporter": "python",
      "pygments_lexer": "ipython3",
      "version": "3.10.8"
    }
  },
  "nbformat": 4,
  "nbformat_minor": 4
}
