{
  "cells": [
    {
      "cell_type": "markdown",
      "metadata": {},
      "source": [
        "# Artificial Intelligence Workshop"
      ]
    },
    {
      "cell_type": "markdown",
      "metadata": {},
      "source": [
        "In this workshop, we will cover a simple protocol that will highlight the main steps leading to a simple Machine Learning problem. This will cover:\n",
        "- Python/Programming basics\n",
        "- Data exploration and preparation\n",
        "- Data visualization\n",
        "- Data pre-processing\n",
        "- Machine Learning\n",
        "- Model performance evaluation"
      ]
    },
    {
      "cell_type": "markdown",
      "metadata": {},
      "source": [
        "## Data exploration\n",
        "\n",
        "### Python\n",
        "\n",
        "Python stands out as a high-level object-oriented programming language. Beyond its versatility and ease of learning, Python boasts an extensive ecosystem, enabling the utilization of a myriad of diverse libraries.\n",
        "\n",
        "### Modules, Packages and Libraries\n",
        "\n",
        "A module serves as a repository of functions or methods. A package, in turn, comprises a set of modules. A library is an assembly of packages. Libraries facilitate code reusability by offering pre-built features for diverse problems, thereby obviating the necessity to repeatedly recreate identical code.\n",
        "To install a new library, usually, you can simply type in the terminal/command line: pip install [module_name].\n",
        "\n",
        "In this workshop, we will make use of the following libraries:\n",
        "\n",
        "* numpy\n",
        "* pandas\n",
        "* scikit-learn\n",
        "* tensorflow\n",
        "* matplotlib\n",
        "* seaborn\n",
        "* plotl\n",
        "\n",
        "Below are exemplified ways of importing a library and a specific object from a library, respectively."
      ]
    },
    {
      "cell_type": "code",
      "execution_count": 1,
      "metadata": {
        "trusted": true
      },
      "outputs": [],
      "source": [
        "import numpy as np\n",
        "from numpy import array"
      ]
    },
    {
      "cell_type": "markdown",
      "metadata": {},
      "source": [
        "In the first case, the library is imported in its entirety. In the second case, only a specific method is imported.\n",
        "\n",
        "Import the remaining libraries."
      ]
    },
    {
      "cell_type": "code",
      "execution_count": null,
      "metadata": {
        "trusted": true
      },
      "outputs": [],
      "source": []
    },
    {
      "cell_type": "markdown",
      "metadata": {},
      "source": [
        "## Dataset\n",
        "\n",
        "A dataset is a compilation of data, encompassing not only tabular forms but also various types such as images, text, and more. A tabular dataset is composed of objects and features, a set of characteristics/variables of a specific object. Variables enable the storage and representation of values. In Python, there is no need to predefine the variable type.\n",
        "\n",
        "Commons type of variables:\n",
        "- string\n",
        "- numeric (integer or float)\n",
        "- boolean\n",
        "- lists\n",
        "- tuples\n",
        "- dictionaries\n",
        "\n",
        "**Boolean**\n",
        "\n",
        "The boolean objects are objects that are either `True` or `False` (1 or 0, respectively). These objects allow the evaluation of conditions. To evaluate conditions, operators such as **if**, **elif**, **else**, **and** and **or** are used. In other words, the if, elif, and else statements allow the evaluation of conditional premises and, eventually, take action based on them. The and and or operators allow the evaluation of joint premises.\n",
        "\n",
        "The code below illustrates a if condition."
      ]
    },
    {
      "cell_type": "code",
      "execution_count": 2,
      "metadata": {
        "trusted": true
      },
      "outputs": [
        {
          "name": "stdout",
          "output_type": "stream",
          "text": [
            "1\n"
          ]
        }
      ],
      "source": [
        "example_variable = 1\n",
        "if example_variable == 1:\n",
        "    print(example_variable)"
      ]
    },
    {
      "cell_type": "markdown",
      "metadata": {},
      "source": [
        "**Lists and dictionaries**\n",
        "\n",
        "Lists are a way of storing objects and can be created using [] or through the list() notation. The dictionary can be created using {} or the dict() notation. Unlike lists, dictionaries are not inherently ordered; however, they operate on a key-value logic that allows storing data relationally.\n",
        "\n",
        "Examples of functions used in lists:\n",
        "* append()\n",
        "* remove()\n",
        "* len()\n"
      ]
    },
    {
      "cell_type": "code",
      "execution_count": 4,
      "metadata": {
        "trusted": true
      },
      "outputs": [
        {
          "name": "stdout",
          "output_type": "stream",
          "text": [
            "[0, 1, 2, 3, 4, 'A']\n"
          ]
        }
      ],
      "source": [
        "list_numbers = [0,1,2,3,4]\n",
        "list_numbers.append(\"A\")\n",
        "print(list_numbers)"
      ]
    },
    {
      "cell_type": "markdown",
      "metadata": {},
      "source": [
        "Remove the value 0."
      ]
    },
    {
      "cell_type": "code",
      "execution_count": 5,
      "metadata": {
        "trusted": true
      },
      "outputs": [],
      "source": []
    },
    {
      "cell_type": "markdown",
      "metadata": {},
      "source": [
        "It is possible to add the previous list to a dictionary."
      ]
    },
    {
      "cell_type": "code",
      "execution_count": null,
      "metadata": {
        "trusted": true
      },
      "outputs": [],
      "source": [
        "dict_mouth = {\"jan\": 31, \"fev\": [27,28], \"mar\":31}\n",
        "dict_mouth[\"new_key\"] = list_numbers\n",
        "print(dict_mouth)"
      ]
    },
    {
      "cell_type": "markdown",
      "metadata": {},
      "source": [
        "**Iterators**\n",
        "\n",
        "Iterators enable traversing objects and object storages, evaluating values, and performing operations.\n",
        "* for\n",
        "* while\n",
        "\n",
        "The code below illustrates an iteration of a list."
      ]
    },
    {
      "cell_type": "code",
      "execution_count": null,
      "metadata": {
        "trusted": true
      },
      "outputs": [],
      "source": [
        "for number in list_numbers:\n",
        "    print(number)"
      ]
    },
    {
      "cell_type": "markdown",
      "metadata": {},
      "source": [
        "### pandas\n",
        "\n",
        "According to its creators, \"pandas is a fast, powerful, flexible and easy to use open source data analysis and manipulation tool\".\n",
        "\n",
        "\n",
        "A lot of what happens in pandas requires the usage of one of its own object type, the **DataFrame**.\n",
        "\n",
        "The function read_csv() is used to read the file containing the data, thus generating a DataFrame."
      ]
    },
    {
      "cell_type": "code",
      "execution_count": 7,
      "metadata": {
        "trusted": true
      },
      "outputs": [],
      "source": [
        "opened_data = pd.read_csv(\"data/all_stocks_5yr.csv\")"
      ]
    },
    {
      "cell_type": "markdown",
      "metadata": {},
      "source": [
        "The function head() allows visualization of the first rows of the table."
      ]
    },
    {
      "cell_type": "code",
      "execution_count": 16,
      "metadata": {
        "trusted": true
      },
      "outputs": [
        {
          "data": {
            "text/html": [
              "<div>\n",
              "<style scoped>\n",
              "    .dataframe tbody tr th:only-of-type {\n",
              "        vertical-align: middle;\n",
              "    }\n",
              "\n",
              "    .dataframe tbody tr th {\n",
              "        vertical-align: top;\n",
              "    }\n",
              "\n",
              "    .dataframe thead th {\n",
              "        text-align: right;\n",
              "    }\n",
              "</style>\n",
              "<table border=\"1\" class=\"dataframe\">\n",
              "  <thead>\n",
              "    <tr style=\"text-align: right;\">\n",
              "      <th></th>\n",
              "      <th>date</th>\n",
              "      <th>open</th>\n",
              "      <th>high</th>\n",
              "      <th>low</th>\n",
              "      <th>close</th>\n",
              "      <th>volume</th>\n",
              "      <th>Name</th>\n",
              "    </tr>\n",
              "  </thead>\n",
              "  <tbody>\n",
              "    <tr>\n",
              "      <th>0</th>\n",
              "      <td>2013-02-08</td>\n",
              "      <td>15.07</td>\n",
              "      <td>15.12</td>\n",
              "      <td>14.63</td>\n",
              "      <td>14.75</td>\n",
              "      <td>8407500</td>\n",
              "      <td>AAL</td>\n",
              "    </tr>\n",
              "    <tr>\n",
              "      <th>1</th>\n",
              "      <td>2013-02-11</td>\n",
              "      <td>14.89</td>\n",
              "      <td>15.01</td>\n",
              "      <td>14.26</td>\n",
              "      <td>14.46</td>\n",
              "      <td>8882000</td>\n",
              "      <td>AAL</td>\n",
              "    </tr>\n",
              "    <tr>\n",
              "      <th>2</th>\n",
              "      <td>2013-02-12</td>\n",
              "      <td>14.45</td>\n",
              "      <td>14.51</td>\n",
              "      <td>14.10</td>\n",
              "      <td>14.27</td>\n",
              "      <td>8126000</td>\n",
              "      <td>AAL</td>\n",
              "    </tr>\n",
              "    <tr>\n",
              "      <th>3</th>\n",
              "      <td>2013-02-13</td>\n",
              "      <td>14.30</td>\n",
              "      <td>14.94</td>\n",
              "      <td>14.25</td>\n",
              "      <td>14.66</td>\n",
              "      <td>10259500</td>\n",
              "      <td>AAL</td>\n",
              "    </tr>\n",
              "    <tr>\n",
              "      <th>4</th>\n",
              "      <td>2013-02-14</td>\n",
              "      <td>14.94</td>\n",
              "      <td>14.96</td>\n",
              "      <td>13.16</td>\n",
              "      <td>13.99</td>\n",
              "      <td>31879900</td>\n",
              "      <td>AAL</td>\n",
              "    </tr>\n",
              "  </tbody>\n",
              "</table>\n",
              "</div>"
            ],
            "text/plain": [
              "         date   open   high    low  close    volume Name\n",
              "0  2013-02-08  15.07  15.12  14.63  14.75   8407500  AAL\n",
              "1  2013-02-11  14.89  15.01  14.26  14.46   8882000  AAL\n",
              "2  2013-02-12  14.45  14.51  14.10  14.27   8126000  AAL\n",
              "3  2013-02-13  14.30  14.94  14.25  14.66  10259500  AAL\n",
              "4  2013-02-14  14.94  14.96  13.16  13.99  31879900  AAL"
            ]
          },
          "execution_count": 16,
          "metadata": {},
          "output_type": "execute_result"
        }
      ],
      "source": [
        "opened_data.head()"
      ]
    },
    {
      "cell_type": "markdown",
      "metadata": {},
      "source": [
        "In turn, the info() function allows obtaining global information about the DataFrame."
      ]
    },
    {
      "cell_type": "code",
      "execution_count": 8,
      "metadata": {
        "trusted": true
      },
      "outputs": [
        {
          "name": "stdout",
          "output_type": "stream",
          "text": [
            "<class 'pandas.core.frame.DataFrame'>\n",
            "RangeIndex: 619040 entries, 0 to 619039\n",
            "Data columns (total 7 columns):\n",
            " #   Column  Non-Null Count   Dtype  \n",
            "---  ------  --------------   -----  \n",
            " 0   date    619040 non-null  object \n",
            " 1   open    619029 non-null  float64\n",
            " 2   high    619032 non-null  float64\n",
            " 3   low     619032 non-null  float64\n",
            " 4   close   619040 non-null  float64\n",
            " 5   volume  619040 non-null  int64  \n",
            " 6   Name    619040 non-null  object \n",
            "dtypes: float64(4), int64(1), object(2)\n",
            "memory usage: 33.1+ MB\n"
          ]
        }
      ],
      "source": [
        "opened_data.info()"
      ]
    },
    {
      "cell_type": "markdown",
      "metadata": {},
      "source": [
        "The describe() function also allows obtaining information about the table."
      ]
    },
    {
      "cell_type": "code",
      "execution_count": 9,
      "metadata": {
        "trusted": true
      },
      "outputs": [
        {
          "data": {
            "text/html": [
              "<div>\n",
              "<style scoped>\n",
              "    .dataframe tbody tr th:only-of-type {\n",
              "        vertical-align: middle;\n",
              "    }\n",
              "\n",
              "    .dataframe tbody tr th {\n",
              "        vertical-align: top;\n",
              "    }\n",
              "\n",
              "    .dataframe thead th {\n",
              "        text-align: right;\n",
              "    }\n",
              "</style>\n",
              "<table border=\"1\" class=\"dataframe\">\n",
              "  <thead>\n",
              "    <tr style=\"text-align: right;\">\n",
              "      <th></th>\n",
              "      <th>open</th>\n",
              "      <th>high</th>\n",
              "      <th>low</th>\n",
              "      <th>close</th>\n",
              "      <th>volume</th>\n",
              "    </tr>\n",
              "  </thead>\n",
              "  <tbody>\n",
              "    <tr>\n",
              "      <th>count</th>\n",
              "      <td>619029.000000</td>\n",
              "      <td>619032.000000</td>\n",
              "      <td>619032.000000</td>\n",
              "      <td>619040.000000</td>\n",
              "      <td>6.190400e+05</td>\n",
              "    </tr>\n",
              "    <tr>\n",
              "      <th>mean</th>\n",
              "      <td>83.023334</td>\n",
              "      <td>83.778311</td>\n",
              "      <td>82.256096</td>\n",
              "      <td>83.043763</td>\n",
              "      <td>4.321823e+06</td>\n",
              "    </tr>\n",
              "    <tr>\n",
              "      <th>std</th>\n",
              "      <td>97.378769</td>\n",
              "      <td>98.207519</td>\n",
              "      <td>96.507421</td>\n",
              "      <td>97.389748</td>\n",
              "      <td>8.693610e+06</td>\n",
              "    </tr>\n",
              "    <tr>\n",
              "      <th>min</th>\n",
              "      <td>1.620000</td>\n",
              "      <td>1.690000</td>\n",
              "      <td>1.500000</td>\n",
              "      <td>1.590000</td>\n",
              "      <td>0.000000e+00</td>\n",
              "    </tr>\n",
              "    <tr>\n",
              "      <th>25%</th>\n",
              "      <td>40.220000</td>\n",
              "      <td>40.620000</td>\n",
              "      <td>39.830000</td>\n",
              "      <td>40.245000</td>\n",
              "      <td>1.070320e+06</td>\n",
              "    </tr>\n",
              "    <tr>\n",
              "      <th>50%</th>\n",
              "      <td>62.590000</td>\n",
              "      <td>63.150000</td>\n",
              "      <td>62.020000</td>\n",
              "      <td>62.620000</td>\n",
              "      <td>2.082094e+06</td>\n",
              "    </tr>\n",
              "    <tr>\n",
              "      <th>75%</th>\n",
              "      <td>94.370000</td>\n",
              "      <td>95.180000</td>\n",
              "      <td>93.540000</td>\n",
              "      <td>94.410000</td>\n",
              "      <td>4.284509e+06</td>\n",
              "    </tr>\n",
              "    <tr>\n",
              "      <th>max</th>\n",
              "      <td>2044.000000</td>\n",
              "      <td>2067.990000</td>\n",
              "      <td>2035.110000</td>\n",
              "      <td>2049.000000</td>\n",
              "      <td>6.182376e+08</td>\n",
              "    </tr>\n",
              "  </tbody>\n",
              "</table>\n",
              "</div>"
            ],
            "text/plain": [
              "                open           high            low          close  \\\n",
              "count  619029.000000  619032.000000  619032.000000  619040.000000   \n",
              "mean       83.023334      83.778311      82.256096      83.043763   \n",
              "std        97.378769      98.207519      96.507421      97.389748   \n",
              "min         1.620000       1.690000       1.500000       1.590000   \n",
              "25%        40.220000      40.620000      39.830000      40.245000   \n",
              "50%        62.590000      63.150000      62.020000      62.620000   \n",
              "75%        94.370000      95.180000      93.540000      94.410000   \n",
              "max      2044.000000    2067.990000    2035.110000    2049.000000   \n",
              "\n",
              "             volume  \n",
              "count  6.190400e+05  \n",
              "mean   4.321823e+06  \n",
              "std    8.693610e+06  \n",
              "min    0.000000e+00  \n",
              "25%    1.070320e+06  \n",
              "50%    2.082094e+06  \n",
              "75%    4.284509e+06  \n",
              "max    6.182376e+08  "
            ]
          },
          "execution_count": 9,
          "metadata": {},
          "output_type": "execute_result"
        }
      ],
      "source": [
        "opened_data.describe()"
      ]
    },
    {
      "cell_type": "markdown",
      "metadata": {},
      "source": [
        "At times, not all columns have values (missing values). The dropna() function resolves this issue."
      ]
    },
    {
      "cell_type": "code",
      "execution_count": 17,
      "metadata": {
        "trusted": true
      },
      "outputs": [],
      "source": [
        "opened_data.dropna(inplace=True)"
      ]
    },
    {
      "cell_type": "markdown",
      "metadata": {},
      "source": [
        "There are several tools that allow for category-based analysis."
      ]
    },
    {
      "cell_type": "code",
      "execution_count": 18,
      "metadata": {
        "trusted": true
      },
      "outputs": [
        {
          "name": "stdout",
          "output_type": "stream",
          "text": [
            "      date  open  high   low  close  volume\n",
            "Name                                       \n",
            "A     1259  1259  1259  1259   1259    1259\n",
            "AAL   1259  1259  1259  1259   1259    1259\n",
            "AAP   1259  1259  1259  1259   1259    1259\n",
            "AAPL  1259  1259  1259  1259   1259    1259\n",
            "ABBV  1259  1259  1259  1259   1259    1259\n",
            "...    ...   ...   ...   ...    ...     ...\n",
            "XYL   1259  1259  1259  1259   1259    1259\n",
            "YUM   1259  1259  1259  1259   1259    1259\n",
            "ZBH   1259  1259  1259  1259   1259    1259\n",
            "ZION  1259  1259  1259  1259   1259    1259\n",
            "ZTS   1259  1259  1259  1259   1259    1259\n",
            "\n",
            "[505 rows x 6 columns]\n"
          ]
        }
      ],
      "source": [
        "count_by_company = opened_data.groupby(\"Name\").count()\n",
        "print(count_by_company)"
      ]
    },
    {
      "cell_type": "markdown",
      "metadata": {},
      "source": [
        "The **.loc** attribute can be used to locate rows based on the label. It is also possible to combine the .loc attribute with boolean logic, thus making subsets of the data according to conditions."
      ]
    },
    {
      "cell_type": "code",
      "execution_count": 22,
      "metadata": {
        "trusted": true
      },
      "outputs": [
        {
          "data": {
            "text/html": [
              "<div>\n",
              "<style scoped>\n",
              "    .dataframe tbody tr th:only-of-type {\n",
              "        vertical-align: middle;\n",
              "    }\n",
              "\n",
              "    .dataframe tbody tr th {\n",
              "        vertical-align: top;\n",
              "    }\n",
              "\n",
              "    .dataframe thead th {\n",
              "        text-align: right;\n",
              "    }\n",
              "</style>\n",
              "<table border=\"1\" class=\"dataframe\">\n",
              "  <thead>\n",
              "    <tr style=\"text-align: right;\">\n",
              "      <th></th>\n",
              "      <th>date</th>\n",
              "      <th>open</th>\n",
              "      <th>high</th>\n",
              "      <th>low</th>\n",
              "      <th>close</th>\n",
              "      <th>volume</th>\n",
              "      <th>Name</th>\n",
              "    </tr>\n",
              "  </thead>\n",
              "  <tbody>\n",
              "    <tr>\n",
              "      <th>1259</th>\n",
              "      <td>2013-02-08</td>\n",
              "      <td>67.7142</td>\n",
              "      <td>68.4014</td>\n",
              "      <td>66.8928</td>\n",
              "      <td>67.8542</td>\n",
              "      <td>158168416</td>\n",
              "      <td>AAPL</td>\n",
              "    </tr>\n",
              "    <tr>\n",
              "      <th>1260</th>\n",
              "      <td>2013-02-11</td>\n",
              "      <td>68.0714</td>\n",
              "      <td>69.2771</td>\n",
              "      <td>67.6071</td>\n",
              "      <td>68.5614</td>\n",
              "      <td>129029425</td>\n",
              "      <td>AAPL</td>\n",
              "    </tr>\n",
              "    <tr>\n",
              "      <th>1261</th>\n",
              "      <td>2013-02-12</td>\n",
              "      <td>68.5014</td>\n",
              "      <td>68.9114</td>\n",
              "      <td>66.8205</td>\n",
              "      <td>66.8428</td>\n",
              "      <td>151829363</td>\n",
              "      <td>AAPL</td>\n",
              "    </tr>\n",
              "    <tr>\n",
              "      <th>1262</th>\n",
              "      <td>2013-02-13</td>\n",
              "      <td>66.7442</td>\n",
              "      <td>67.6628</td>\n",
              "      <td>66.1742</td>\n",
              "      <td>66.7156</td>\n",
              "      <td>118721995</td>\n",
              "      <td>AAPL</td>\n",
              "    </tr>\n",
              "    <tr>\n",
              "      <th>1263</th>\n",
              "      <td>2013-02-14</td>\n",
              "      <td>66.3599</td>\n",
              "      <td>67.3771</td>\n",
              "      <td>66.2885</td>\n",
              "      <td>66.6556</td>\n",
              "      <td>88809154</td>\n",
              "      <td>AAPL</td>\n",
              "    </tr>\n",
              "    <tr>\n",
              "      <th>...</th>\n",
              "      <td>...</td>\n",
              "      <td>...</td>\n",
              "      <td>...</td>\n",
              "      <td>...</td>\n",
              "      <td>...</td>\n",
              "      <td>...</td>\n",
              "      <td>...</td>\n",
              "    </tr>\n",
              "    <tr>\n",
              "      <th>2513</th>\n",
              "      <td>2018-02-01</td>\n",
              "      <td>167.1650</td>\n",
              "      <td>168.6200</td>\n",
              "      <td>166.7600</td>\n",
              "      <td>167.7800</td>\n",
              "      <td>47230787</td>\n",
              "      <td>AAPL</td>\n",
              "    </tr>\n",
              "    <tr>\n",
              "      <th>2514</th>\n",
              "      <td>2018-02-02</td>\n",
              "      <td>166.0000</td>\n",
              "      <td>166.8000</td>\n",
              "      <td>160.1000</td>\n",
              "      <td>160.5000</td>\n",
              "      <td>86593825</td>\n",
              "      <td>AAPL</td>\n",
              "    </tr>\n",
              "    <tr>\n",
              "      <th>2515</th>\n",
              "      <td>2018-02-05</td>\n",
              "      <td>159.1000</td>\n",
              "      <td>163.8800</td>\n",
              "      <td>156.0000</td>\n",
              "      <td>156.4900</td>\n",
              "      <td>72738522</td>\n",
              "      <td>AAPL</td>\n",
              "    </tr>\n",
              "    <tr>\n",
              "      <th>2516</th>\n",
              "      <td>2018-02-06</td>\n",
              "      <td>154.8300</td>\n",
              "      <td>163.7200</td>\n",
              "      <td>154.0000</td>\n",
              "      <td>163.0300</td>\n",
              "      <td>68243838</td>\n",
              "      <td>AAPL</td>\n",
              "    </tr>\n",
              "    <tr>\n",
              "      <th>2517</th>\n",
              "      <td>2018-02-07</td>\n",
              "      <td>163.0850</td>\n",
              "      <td>163.4000</td>\n",
              "      <td>159.0685</td>\n",
              "      <td>159.5400</td>\n",
              "      <td>51608580</td>\n",
              "      <td>AAPL</td>\n",
              "    </tr>\n",
              "  </tbody>\n",
              "</table>\n",
              "<p>1259 rows × 7 columns</p>\n",
              "</div>"
            ],
            "text/plain": [
              "            date      open      high       low     close     volume  Name\n",
              "1259  2013-02-08   67.7142   68.4014   66.8928   67.8542  158168416  AAPL\n",
              "1260  2013-02-11   68.0714   69.2771   67.6071   68.5614  129029425  AAPL\n",
              "1261  2013-02-12   68.5014   68.9114   66.8205   66.8428  151829363  AAPL\n",
              "1262  2013-02-13   66.7442   67.6628   66.1742   66.7156  118721995  AAPL\n",
              "1263  2013-02-14   66.3599   67.3771   66.2885   66.6556   88809154  AAPL\n",
              "...          ...       ...       ...       ...       ...        ...   ...\n",
              "2513  2018-02-01  167.1650  168.6200  166.7600  167.7800   47230787  AAPL\n",
              "2514  2018-02-02  166.0000  166.8000  160.1000  160.5000   86593825  AAPL\n",
              "2515  2018-02-05  159.1000  163.8800  156.0000  156.4900   72738522  AAPL\n",
              "2516  2018-02-06  154.8300  163.7200  154.0000  163.0300   68243838  AAPL\n",
              "2517  2018-02-07  163.0850  163.4000  159.0685  159.5400   51608580  AAPL\n",
              "\n",
              "[1259 rows x 7 columns]"
            ]
          },
          "execution_count": 22,
          "metadata": {},
          "output_type": "execute_result"
        }
      ],
      "source": [
        "opened_data.loc[opened_data[\"Name\"] == \"AAPL\"]"
      ]
    },
    {
      "cell_type": "markdown",
      "metadata": {},
      "source": [
        "The iloc attribute allows for positional-based locating. Keep in mind **indexation starts at 0**, in Python."
      ]
    },
    {
      "cell_type": "code",
      "execution_count": 23,
      "metadata": {
        "trusted": true
      },
      "outputs": [
        {
          "data": {
            "text/plain": [
              "0     15.07\n",
              "1     14.89\n",
              "2     14.45\n",
              "3     14.30\n",
              "4     14.94\n",
              "5     13.93\n",
              "6     14.33\n",
              "7     14.17\n",
              "8     13.62\n",
              "9     13.57\n",
              "10    13.60\n",
              "11    13.14\n",
              "12    13.28\n",
              "13    13.49\n",
              "14    13.37\n",
              "Name: open, dtype: float64"
            ]
          },
          "execution_count": 23,
          "metadata": {},
          "output_type": "execute_result"
        }
      ],
      "source": [
        "opened_data.iloc[0:15,1]"
      ]
    },
    {
      "cell_type": "markdown",
      "metadata": {},
      "source": [
        "At times, a feature can act as a foundation for generating others. In the following code, we will create new columns considering the stock's date."
      ]
    },
    {
      "cell_type": "code",
      "execution_count": 24,
      "metadata": {
        "trusted": true
      },
      "outputs": [],
      "source": [
        "opened_data[\"date\"] = pd.to_datetime(opened_data[\"date\"])\n",
        "opened_data[\"year\"] = pd.DatetimeIndex(opened_data[\"date\"]).year\n",
        "opened_data[\"month\"] = pd.DatetimeIndex(opened_data[\"date\"]).month\n",
        "opened_data[\"day\"] = pd.DatetimeIndex(opened_data[\"date\"]).day"
      ]
    },
    {
      "cell_type": "markdown",
      "metadata": {},
      "source": [
        "### **Exercise: How many different years appear in the dataset?**"
      ]
    },
    {
      "cell_type": "code",
      "execution_count": null,
      "metadata": {
        "trusted": true
      },
      "outputs": [],
      "source": []
    },
    {
      "cell_type": "markdown",
      "metadata": {},
      "source": [
        "### **Exercise: What is the percentage of rows from 2018?**"
      ]
    },
    {
      "cell_type": "code",
      "execution_count": null,
      "metadata": {
        "trusted": true
      },
      "outputs": [],
      "source": []
    },
    {
      "cell_type": "markdown",
      "metadata": {},
      "source": [
        "### **Exercise: What is the percentage of rows for each year?**"
      ]
    },
    {
      "cell_type": "code",
      "execution_count": null,
      "metadata": {
        "trusted": true
      },
      "outputs": [],
      "source": []
    },
    {
      "cell_type": "markdown",
      "metadata": {},
      "source": [
        "## Data visualization"
      ]
    },
    {
      "cell_type": "markdown",
      "metadata": {},
      "source": [
        "In order to understand which operations to deploy on the data, and whether or not they worked as intended, it is very important to be able to select the most adequate plots for each case."
      ]
    },
    {
      "cell_type": "markdown",
      "metadata": {},
      "source": [
        "### seaborn\n",
        "\n",
        "Seaborn is a python library based on matplotlib that allows the creation of graphs. To customize the plot, it is necessary to delve deeper into the documentation of the library. \n",
        "Functions for the production of graphics:\n",
        "* barplot\n",
        "* boxplot\n",
        "* violinplot\n",
        "* lineplot\n",
        "* heatmap\n",
        "* histplot\n",
        "\n",
        "Now we will work with the file processed_stock_data.csv, a file that only contains the average closing values of the stock market per year. "
      ]
    },
    {
      "cell_type": "code",
      "execution_count": 25,
      "metadata": {},
      "outputs": [
        {
          "data": {
            "text/html": [
              "<div>\n",
              "<style scoped>\n",
              "    .dataframe tbody tr th:only-of-type {\n",
              "        vertical-align: middle;\n",
              "    }\n",
              "\n",
              "    .dataframe tbody tr th {\n",
              "        vertical-align: top;\n",
              "    }\n",
              "\n",
              "    .dataframe thead th {\n",
              "        text-align: right;\n",
              "    }\n",
              "</style>\n",
              "<table border=\"1\" class=\"dataframe\">\n",
              "  <thead>\n",
              "    <tr style=\"text-align: right;\">\n",
              "      <th></th>\n",
              "      <th>Name</th>\n",
              "      <th>2013_close</th>\n",
              "      <th>2014_close</th>\n",
              "      <th>2015_close</th>\n",
              "      <th>2016_close</th>\n",
              "      <th>2017_close</th>\n",
              "      <th>2018_close</th>\n",
              "    </tr>\n",
              "  </thead>\n",
              "  <tbody>\n",
              "    <tr>\n",
              "      <th>0</th>\n",
              "      <td>A</td>\n",
              "      <td>47.104823</td>\n",
              "      <td>54.119802</td>\n",
              "      <td>39.602143</td>\n",
              "      <td>43.369960</td>\n",
              "      <td>59.339641</td>\n",
              "      <td>71.471154</td>\n",
              "    </tr>\n",
              "    <tr>\n",
              "      <th>1</th>\n",
              "      <td>AAL</td>\n",
              "      <td>18.601549</td>\n",
              "      <td>38.923550</td>\n",
              "      <td>45.121607</td>\n",
              "      <td>38.183829</td>\n",
              "      <td>47.490717</td>\n",
              "      <td>54.280000</td>\n",
              "    </tr>\n",
              "    <tr>\n",
              "      <th>2</th>\n",
              "      <td>AAP</td>\n",
              "      <td>86.547699</td>\n",
              "      <td>130.955000</td>\n",
              "      <td>163.647262</td>\n",
              "      <td>155.487937</td>\n",
              "      <td>122.576494</td>\n",
              "      <td>114.789231</td>\n",
              "    </tr>\n",
              "    <tr>\n",
              "      <th>3</th>\n",
              "      <td>AAPL</td>\n",
              "      <td>67.237839</td>\n",
              "      <td>92.264531</td>\n",
              "      <td>120.039861</td>\n",
              "      <td>104.604008</td>\n",
              "      <td>150.585080</td>\n",
              "      <td>171.594231</td>\n",
              "    </tr>\n",
              "    <tr>\n",
              "      <th>4</th>\n",
              "      <td>ABBV</td>\n",
              "      <td>44.550177</td>\n",
              "      <td>55.460079</td>\n",
              "      <td>62.104246</td>\n",
              "      <td>60.668056</td>\n",
              "      <td>75.167769</td>\n",
              "      <td>106.858462</td>\n",
              "    </tr>\n",
              "  </tbody>\n",
              "</table>\n",
              "</div>"
            ],
            "text/plain": [
              "   Name  2013_close  2014_close  2015_close  2016_close  2017_close  \\\n",
              "0     A   47.104823   54.119802   39.602143   43.369960   59.339641   \n",
              "1   AAL   18.601549   38.923550   45.121607   38.183829   47.490717   \n",
              "2   AAP   86.547699  130.955000  163.647262  155.487937  122.576494   \n",
              "3  AAPL   67.237839   92.264531  120.039861  104.604008  150.585080   \n",
              "4  ABBV   44.550177   55.460079   62.104246   60.668056   75.167769   \n",
              "\n",
              "   2018_close  \n",
              "0   71.471154  \n",
              "1   54.280000  \n",
              "2  114.789231  \n",
              "3  171.594231  \n",
              "4  106.858462  "
            ]
          },
          "execution_count": 25,
          "metadata": {},
          "output_type": "execute_result"
        }
      ],
      "source": [
        "reformed_df = pd.read_csv(\"data/processed_stock_data.csv\")\n",
        "reformed_df.head(5)"
      ]
    },
    {
      "cell_type": "markdown",
      "metadata": {},
      "source": [
        "You can calculate the mean, standard deviation, and variance along an axis. Choosing 0 will calculate along the columns, while 1 will calculate along the rows."
      ]
    },
    {
      "cell_type": "code",
      "execution_count": 26,
      "metadata": {
        "trusted": true
      },
      "outputs": [
        {
          "name": "stderr",
          "output_type": "stream",
          "text": [
            "C:\\Users\\marti\\AppData\\Local\\Temp\\ipykernel_27768\\4210962714.py:1: FutureWarning: The default value of numeric_only in DataFrame.mean is deprecated. In a future version, it will default to False. In addition, specifying 'numeric_only=None' is deprecated. Select only valid columns or specify the value of numeric_only to silence this warning.\n",
            "  yearly_average_df = reformed_df.mean(axis = 0)\n"
          ]
        }
      ],
      "source": [
        "yearly_average_df = reformed_df.mean(axis = 0)"
      ]
    },
    {
      "cell_type": "markdown",
      "metadata": {
        "trusted": true
      },
      "source": [
        "The code below allows you to create a bar chart."
      ]
    },
    {
      "cell_type": "code",
      "execution_count": 29,
      "metadata": {},
      "outputs": [
        {
          "data": {
            "text/plain": [
              "<Axes: >"
            ]
          },
          "execution_count": 29,
          "metadata": {},
          "output_type": "execute_result"
        },
        {
          "data": {
            "image/png": "[encoded data removed]",
            "text/plain": [
              "<Figure size 640x480 with 1 Axes>"
            ]
          },
          "metadata": {},
          "output_type": "display_data"
        }
      ],
      "source": [
        "import seaborn as sns\n",
        "sns.barplot(yearly_average_df, legend=False)"
      ]
    },
    {
      "cell_type": "markdown",
      "metadata": {},
      "source": [
        "It is possible to customize the chart according to individual preferences and the representation's objective by adding and modifying arguments."
      ]
    },
    {
      "cell_type": "code",
      "execution_count": 30,
      "metadata": {
        "trusted": true
      },
      "outputs": [
        {
          "data": {
            "text/plain": [
              "([0, 1, 2, 3, 4, 5],\n",
              " [Text(0, 0, '2013_close'),\n",
              "  Text(1, 0, '2014_close'),\n",
              "  Text(2, 0, '2015_close'),\n",
              "  Text(3, 0, '2016_close'),\n",
              "  Text(4, 0, '2017_close'),\n",
              "  Text(5, 0, '2018_close')])"
            ]
          },
          "execution_count": 30,
          "metadata": {},
          "output_type": "execute_result"
        },
        {
          "data": {
            "image/png": "[encoded data removed]",
            "text/plain": [
              "<Figure size 640x480 with 1 Axes>"
            ]
          },
          "metadata": {},
          "output_type": "display_data"
        }
      ],
      "source": [
        "import matplotlib.pyplot as plt\n",
        "sns.barplot(yearly_average_df, legend=False)\n",
        "plt.title(\"Yearly stock value\")\n",
        "plt.xticks(rotation=45)"
      ]
    },
    {
      "cell_type": "markdown",
      "metadata": {},
      "source": [
        "Boxplots enable the graphical visualization of outliers."
      ]
    },
    {
      "cell_type": "markdown",
      "metadata": {},
      "source": [
        "### **Exercise: Build a violinplot to further assess the distribution**"
      ]
    },
    {
      "cell_type": "code",
      "execution_count": null,
      "metadata": {
        "trusted": true
      },
      "outputs": [],
      "source": []
    },
    {
      "cell_type": "markdown",
      "metadata": {},
      "source": [
        "### **Exercise: Identify the top 5 stocks with highest closing in 2018 and build a lineplot with the years as the x-axis**"
      ]
    },
    {
      "cell_type": "code",
      "execution_count": null,
      "metadata": {
        "trusted": true
      },
      "outputs": [],
      "source": []
    },
    {
      "cell_type": "markdown",
      "metadata": {},
      "source": [
        "## Data preprocessing\n",
        "\n",
        "### Outlier detection and handling\n",
        "\n",
        "An outlier is a data point in the dataset that deviates significantly from the rest of the data or observations. If neglected, this type of data can disrupt the intended analysis. Outliers can be detected through the use of quartiles.\n"
      ]
    },
    {
      "cell_type": "code",
      "execution_count": 39,
      "metadata": {
        "trusted": true
      },
      "outputs": [
        {
          "data": {
            "image/png": "[encoded data removed]",
            "text/plain": [
              "<Figure size 640x480 with 2 Axes>"
            ]
          },
          "metadata": {},
          "output_type": "display_data"
        }
      ],
      "source": [
        "quantile_low = reformed_df[\"2018_close\"].quantile(0.01)\n",
        "quantile_high  = reformed_df[\"2018_close\"].quantile(0.99)\n",
        "\n",
        "reformed_df_filtered = reformed_df[(reformed_df[\"2018_close\"] < quantile_high) & (reformed_df[\"2018_close\"] > quantile_low)]\n",
        "\n",
        "fig, axes = plt.subplots(1, 2)\n",
        "sns.violinplot(reformed_df, ax=axes[0])\n",
        "sns.violinplot(reformed_df_filtered, ax=axes[1])\n",
        "for tick in axes[0].get_xticklabels():\n",
        "    tick.set_rotation(45)\n",
        "\n",
        "for tick in axes[1].get_xticklabels():\n",
        "    tick.set_rotation(45)\n",
        "plt.show()"
      ]
    },
    {
      "cell_type": "markdown",
      "metadata": {},
      "source": [
        "## scikit-learn\n",
        "\n",
        "The scikit-learn contains a vast number of functions for machine learning, as well as data preprocessing functions. These functions enable the analysis and preparation of data to undergo machine learning processes.\n",
        "\n",
        "### Features, target variable\n",
        "\n",
        "Before executing an ML protocol, it is necessary to split the data into features and target variable. The target variable is what we aim to predict, serving as the dependent variable. Features, on the other hand, are the independent variables used in predicting the target variable."
      ]
    },
    {
      "cell_type": "code",
      "execution_count": null,
      "metadata": {
        "trusted": true
      },
      "outputs": [],
      "source": [
        "features = reformed_df.drop(columns = [\"2018_close\"])\n",
        "target_variable = reformed_df[\"2018_close\"]"
      ]
    },
    {
      "cell_type": "markdown",
      "metadata": {},
      "source": [
        "### Data spliting\n",
        "\n",
        "Next, it is essential to split the dataset into training and testing sets, with the target variable isolated since it is the variable we want to predict. To do this, we will use the **train_test_split** function from *scikit-learn*.\n"
      ]
    },
    {
      "cell_type": "code",
      "execution_count": null,
      "metadata": {
        "trusted": true
      },
      "outputs": [],
      "source": [
        "from sklearn.model_selection import train_test_split\n",
        "train_features, test_features, train_target, test_target = train_test_split(features, target_variable, random_state = 42)\n",
        "print(train_features.shape, test_features.shape, train_target.shape, test_target.shape)"
      ]
    },
    {
      "cell_type": "markdown",
      "metadata": {},
      "source": [
        "### Data Standardization/normalization\n",
        "\n",
        "Data standardization aids in preparing datasets for analysis by normalizing features to a consistent scale. This process ensures that different features are in the same scale, thus avoiding different contributions due to range of values alone.\n"
      ]
    },
    {
      "cell_type": "code",
      "execution_count": null,
      "metadata": {
        "trusted": true
      },
      "outputs": [],
      "source": [
        "from sklearn.preprocessing import StandardScaler"
      ]
    },
    {
      "cell_type": "code",
      "execution_count": null,
      "metadata": {
        "trusted": true
      },
      "outputs": [],
      "source": [
        "scaler = StandardScaler()"
      ]
    },
    {
      "cell_type": "code",
      "execution_count": null,
      "metadata": {
        "trusted": true
      },
      "outputs": [],
      "source": [
        "scaler.fit(train_features)"
      ]
    },
    {
      "cell_type": "code",
      "execution_count": null,
      "metadata": {
        "trusted": true
      },
      "outputs": [],
      "source": [
        "scaled_train_features = scaler.transform(train_features)\n",
        "scaled_test_features = scaler.transform(test_features)"
      ]
    }
  ],
  "metadata": {
    "kernelspec": {
      "display_name": "Peptides",
      "language": "python",
      "name": "python3"
    },
    "language_info": {
      "codemirror_mode": {
        "name": "ipython",
        "version": 3
      },
      "file_extension": ".py",
      "mimetype": "text/x-python",
      "name": "python",
      "nbconvert_exporter": "python",
      "pygments_lexer": "ipython3",
      "version": "3.10.8"
    }
  },
  "nbformat": 4,
  "nbformat_minor": 4
}
