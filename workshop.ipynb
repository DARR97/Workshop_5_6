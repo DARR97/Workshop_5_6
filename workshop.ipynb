{
  "metadata": {
    "kernelspec": {
      "name": "python",
      "display_name": "Python (Pyodide)",
      "language": "python"
    },
    "language_info": {
      "codemirror_mode": {
        "name": "python",
        "version": 3
      },
      "file_extension": ".py",
      "mimetype": "text/x-python",
      "name": "python",
      "nbconvert_exporter": "python",
      "pygments_lexer": "ipython3",
      "version": "3.8"
    }
  },
  "nbformat_minor": 4,
  "nbformat": 4,
  "cells": [
    {
      "cell_type": "markdown",
      "source": "# Introduction\n\n(escrever objetivo da atividade)\n\n# Python\n\nPython stands out as a high-level programming language. Beyond its versatility and ease of learning, Python boasts an extensive ecosystem, enabling the utilization of a myriad of diverse libraries.\n\n# Modules, Packages and Libraries\n\rA module serves as a repository of functions or methods. A package, in turn, comprises a set of modules. A library is an assembly of packages. Libraries facilitate code reusability by offering pre-built features for diverse problems, thereby obviating the necessity to repeatedly recreate identical code.\nIn this workshop, we will make use of the following libraries:\n\n* numpy\n* pandas\n* scikit-learn\n* tensorflow\n* matplotlib\n* seaborn\n* plotl\n\nBelow are exemplified two ways of importing a library.y.st",
      "metadata": {}
    },
    {
      "cell_type": "code",
      "source": "import numpy as np\nfrom numpy import array",
      "metadata": {
        "trusted": true
      },
      "outputs": [],
      "execution_count": null
    },
    {
      "cell_type": "markdown",
      "source": "In the first case, the library is imported in its entirety. In the second case, only a specific method is imported.\n\nImport all the remaining libraries in their entirety.",
      "metadata": {}
    },
    {
      "cell_type": "code",
      "source": "",
      "metadata": {
        "trusted": true
      },
      "outputs": [],
      "execution_count": null
    },
    {
      "cell_type": "markdown",
      "source": "# Dataset\n\nA dataset is a compilation of data, encompassing not only tabular forms but also various types such as images, text, and more. A tabular dataset is composed of objects and features, a set of characteristics/variables of a specific object. Variables enable the storage and representation of values. In Python, there is no need to predefine the variable type.\n\nType of variables:\n- string;\n- numeric (integer or float);\n- boolean;\n- lists;\n- tuples;\n- dictionaries.\n\n**Boolean**\n\nThe boolean objects are objects that are either true or false (1 or 0, respectively). These objects allow the evaluation of conditions. To evaluate conditions, operators such as **if**, **elif**, **else**, **and** and **or** are used. In other words, the if, elif, and else statements allow the evaluation of conditional premises and, eventually, take action based on them. The and and or operators allow the evaluation of joint premises.\n\n**Lists and dictionaries**\n\nLists are a way of storing objects and can be created using [] or through the list() notation. The dictionary can be created using {} or the dict() notation. Unlike lists, dictionaries are not inherently ordered; however, they operate on a key-value logic that allows storing data in a relational manner.\n\nExamples of functions used in lists:\n* append()\n* del()\n* len()\n\n\n**Iterators**\n\nIterators enable traversing objects and object storages, evaluating values, and performing operations.\n* for\n* while\n\nThe code below illustrates an iteration of a list.",
      "metadata": {}
    },
    {
      "cell_type": "code",
      "source": "list_number = [0,1,2,3,4,5]\n\nfor number in list_number:\n    print(number)",
      "metadata": {
        "trusted": true
      },
      "outputs": [],
      "execution_count": null
    },
    {
      "cell_type": "markdown",
      "source": "# pandas\n\nAccording to its creators, \"pandas is a fast, powerful, flexible and easy to use open source data analysis and manipulation tool\".\n\n\nTypes of pandas data structures:\n- Series;\n- Dataframes.\n\nSeries are one-dimensional arrays of data, while Dataframes are two-dimensional tabular data structures capable of storing multiple columns.\n\n##Series\n\nTypically, when working with simple structures like Series, one tends to use the **numpy** library.",
      "metadata": {}
    }
  ]
}